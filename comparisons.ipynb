{
 "cells": [
  {
   "cell_type": "code",
   "execution_count": 81,
   "metadata": {},
   "outputs": [],
   "source": [
    "import pandas as pd\n",
    "import numpy as np\n",
    "from sklearn.metrics import accuracy_score"
   ]
  },
  {
   "cell_type": "markdown",
   "metadata": {},
   "source": [
    "### NON-ANAPHORIC IT"
   ]
  },
  {
   "cell_type": "code",
   "execution_count": 13,
   "metadata": {},
   "outputs": [],
   "source": [
    "non_anaphoric_spacy_path = '/Users/vicky/Desktop/Master/Period4/NLP/resit/data/non_anaphoric_it_spacy_preds.csv'\n",
    "non_anaphoric_bert_path = '/Users/vicky/Desktop/Master/Period4/NLP/resit/data/non_anaphoric_it_bert_preds.csv'\n",
    "\n",
    "non_anaphoric_spacy_df = pd.read_csv(non_anaphoric_spacy_path, delimiter=\",\")\n",
    "non_anaphoric_bert_df = pd.read_csv(non_anaphoric_bert_path, delimiter=',')"
   ]
  },
  {
   "cell_type": "code",
   "execution_count": 14,
   "metadata": {},
   "outputs": [],
   "source": [
    "non_anaphoric_spacy_df_nonempty_preds = non_anaphoric_spacy_df.loc[non_anaphoric_spacy_df['predictions']!='[]']\n",
    "non_anaphoric_bert_df_nonempty_preds = non_anaphoric_bert_df.loc[non_anaphoric_bert_df['predictions']!='[]']"
   ]
  },
  {
   "cell_type": "code",
   "execution_count": 15,
   "metadata": {},
   "outputs": [
    {
     "data": {
      "text/html": [
       "<div>\n",
       "<style scoped>\n",
       "    .dataframe tbody tr th:only-of-type {\n",
       "        vertical-align: middle;\n",
       "    }\n",
       "\n",
       "    .dataframe tbody tr th {\n",
       "        vertical-align: top;\n",
       "    }\n",
       "\n",
       "    .dataframe thead th {\n",
       "        text-align: right;\n",
       "    }\n",
       "</style>\n",
       "<table border=\"1\" class=\"dataframe\">\n",
       "  <thead>\n",
       "    <tr style=\"text-align: right;\">\n",
       "      <th></th>\n",
       "      <th>Unnamed: 0.1</th>\n",
       "      <th>Unnamed: 0</th>\n",
       "      <th>sentences</th>\n",
       "      <th>specific_category</th>\n",
       "      <th>challenge</th>\n",
       "      <th>broader_category</th>\n",
       "      <th>predictions</th>\n",
       "      <th>results</th>\n",
       "    </tr>\n",
       "  </thead>\n",
       "  <tbody>\n",
       "    <tr>\n",
       "      <th>30</th>\n",
       "      <td>30</td>\n",
       "      <td>6</td>\n",
       "      <td>It's that he abandoned his wife, that I find d...</td>\n",
       "      <td>finite_cleft</td>\n",
       "      <td>False</td>\n",
       "      <td>clefting</td>\n",
       "      <td>[['he', 'his']]</td>\n",
       "      <td>1</td>\n",
       "    </tr>\n",
       "    <tr>\n",
       "      <th>32</th>\n",
       "      <td>32</td>\n",
       "      <td>8</td>\n",
       "      <td>It's that he went there, that he's talking abo...</td>\n",
       "      <td>finite_cleft</td>\n",
       "      <td>False</td>\n",
       "      <td>clefting</td>\n",
       "      <td>[['he', 'he']]</td>\n",
       "      <td>1</td>\n",
       "    </tr>\n",
       "    <tr>\n",
       "      <th>33</th>\n",
       "      <td>33</td>\n",
       "      <td>9</td>\n",
       "      <td>It's that he abandoned his dog, that the kid f...</td>\n",
       "      <td>finite_cleft</td>\n",
       "      <td>True</td>\n",
       "      <td>clefting</td>\n",
       "      <td>[['he', 'his']]</td>\n",
       "      <td>1</td>\n",
       "    </tr>\n",
       "    <tr>\n",
       "      <th>39</th>\n",
       "      <td>39</td>\n",
       "      <td>15</td>\n",
       "      <td>It's to scary the child, that he wore that cos...</td>\n",
       "      <td>infinitive_cleft</td>\n",
       "      <td>True</td>\n",
       "      <td>clefting</td>\n",
       "      <td>[['the child', 'he']]</td>\n",
       "      <td>1</td>\n",
       "    </tr>\n",
       "    <tr>\n",
       "      <th>42</th>\n",
       "      <td>42</td>\n",
       "      <td>0</td>\n",
       "      <td>It is possible that he killed him.</td>\n",
       "      <td>finite_extraposition</td>\n",
       "      <td>False</td>\n",
       "      <td>extraposition</td>\n",
       "      <td>[['he', 'him']]</td>\n",
       "      <td>1</td>\n",
       "    </tr>\n",
       "    <tr>\n",
       "      <th>44</th>\n",
       "      <td>44</td>\n",
       "      <td>2</td>\n",
       "      <td>It hurts the child that she's so cruel.</td>\n",
       "      <td>finite_extraposition</td>\n",
       "      <td>False</td>\n",
       "      <td>extraposition</td>\n",
       "      <td>[['the child', 'she']]</td>\n",
       "      <td>1</td>\n",
       "    </tr>\n",
       "  </tbody>\n",
       "</table>\n",
       "</div>"
      ],
      "text/plain": [
       "    Unnamed: 0.1  Unnamed: 0  \\\n",
       "30            30           6   \n",
       "32            32           8   \n",
       "33            33           9   \n",
       "39            39          15   \n",
       "42            42           0   \n",
       "44            44           2   \n",
       "\n",
       "                                            sentences     specific_category  \\\n",
       "30  It's that he abandoned his wife, that I find d...          finite_cleft   \n",
       "32  It's that he went there, that he's talking abo...          finite_cleft   \n",
       "33  It's that he abandoned his dog, that the kid f...          finite_cleft   \n",
       "39  It's to scary the child, that he wore that cos...      infinitive_cleft   \n",
       "42                 It is possible that he killed him.  finite_extraposition   \n",
       "44            It hurts the child that she's so cruel.  finite_extraposition   \n",
       "\n",
       "    challenge broader_category             predictions  results  \n",
       "30      False         clefting         [['he', 'his']]        1  \n",
       "32      False         clefting          [['he', 'he']]        1  \n",
       "33       True         clefting         [['he', 'his']]        1  \n",
       "39       True         clefting   [['the child', 'he']]        1  \n",
       "42      False    extraposition         [['he', 'him']]        1  \n",
       "44      False    extraposition  [['the child', 'she']]        1  "
      ]
     },
     "execution_count": 15,
     "metadata": {},
     "output_type": "execute_result"
    }
   ],
   "source": [
    "non_anaphoric_spacy_df_nonempty_preds\n",
    "#39 and 44 are false predictions that spacy made but not bert"
   ]
  },
  {
   "cell_type": "code",
   "execution_count": 17,
   "metadata": {},
   "outputs": [
    {
     "data": {
      "text/html": [
       "<div>\n",
       "<style scoped>\n",
       "    .dataframe tbody tr th:only-of-type {\n",
       "        vertical-align: middle;\n",
       "    }\n",
       "\n",
       "    .dataframe tbody tr th {\n",
       "        vertical-align: top;\n",
       "    }\n",
       "\n",
       "    .dataframe thead th {\n",
       "        text-align: right;\n",
       "    }\n",
       "</style>\n",
       "<table border=\"1\" class=\"dataframe\">\n",
       "  <thead>\n",
       "    <tr style=\"text-align: right;\">\n",
       "      <th></th>\n",
       "      <th>Unnamed: 0.1</th>\n",
       "      <th>Unnamed: 0</th>\n",
       "      <th>sentences</th>\n",
       "      <th>specific_category</th>\n",
       "      <th>challenge</th>\n",
       "      <th>broader_category</th>\n",
       "      <th>predictions</th>\n",
       "      <th>results</th>\n",
       "    </tr>\n",
       "  </thead>\n",
       "  <tbody>\n",
       "    <tr>\n",
       "      <th>30</th>\n",
       "      <td>30</td>\n",
       "      <td>6</td>\n",
       "      <td>It's that he abandoned his wife, that I find d...</td>\n",
       "      <td>finite_cleft</td>\n",
       "      <td>False</td>\n",
       "      <td>clefting</td>\n",
       "      <td>[['he', 'his']]</td>\n",
       "      <td>1</td>\n",
       "    </tr>\n",
       "    <tr>\n",
       "      <th>32</th>\n",
       "      <td>32</td>\n",
       "      <td>8</td>\n",
       "      <td>It's that he went there, that he's talking abo...</td>\n",
       "      <td>finite_cleft</td>\n",
       "      <td>False</td>\n",
       "      <td>clefting</td>\n",
       "      <td>[['he', 'he']]</td>\n",
       "      <td>1</td>\n",
       "    </tr>\n",
       "    <tr>\n",
       "      <th>33</th>\n",
       "      <td>33</td>\n",
       "      <td>9</td>\n",
       "      <td>It's that he abandoned his dog, that the kid f...</td>\n",
       "      <td>finite_cleft</td>\n",
       "      <td>True</td>\n",
       "      <td>clefting</td>\n",
       "      <td>[['he', 'his']]</td>\n",
       "      <td>1</td>\n",
       "    </tr>\n",
       "    <tr>\n",
       "      <th>42</th>\n",
       "      <td>42</td>\n",
       "      <td>0</td>\n",
       "      <td>It is possible that he killed him.</td>\n",
       "      <td>finite_extraposition</td>\n",
       "      <td>False</td>\n",
       "      <td>extraposition</td>\n",
       "      <td>[['he', 'him']]</td>\n",
       "      <td>1</td>\n",
       "    </tr>\n",
       "  </tbody>\n",
       "</table>\n",
       "</div>"
      ],
      "text/plain": [
       "    Unnamed: 0.1  Unnamed: 0  \\\n",
       "30            30           6   \n",
       "32            32           8   \n",
       "33            33           9   \n",
       "42            42           0   \n",
       "\n",
       "                                            sentences     specific_category  \\\n",
       "30  It's that he abandoned his wife, that I find d...          finite_cleft   \n",
       "32  It's that he went there, that he's talking abo...          finite_cleft   \n",
       "33  It's that he abandoned his dog, that the kid f...          finite_cleft   \n",
       "42                 It is possible that he killed him.  finite_extraposition   \n",
       "\n",
       "    challenge broader_category      predictions  results  \n",
       "30      False         clefting  [['he', 'his']]        1  \n",
       "32      False         clefting   [['he', 'he']]        1  \n",
       "33       True         clefting  [['he', 'his']]        1  \n",
       "42      False    extraposition  [['he', 'him']]        1  "
      ]
     },
     "execution_count": 17,
     "metadata": {},
     "output_type": "execute_result"
    }
   ],
   "source": [
    "non_anaphoric_bert_df_nonempty_preds"
   ]
  },
  {
   "cell_type": "markdown",
   "metadata": {},
   "source": [
    "* 39 and 44 are false predictions that spacy made but not bert\n",
    "* 42 is a falso predictions that both spacy and bert have, but it is not due to the extraposition. They did not interprete he and him as introducing different discourse entities which suggests luck of semantics, but this is not the ability tested here\n",
    "* they have 100% agreement when it comes to the tested capability"
   ]
  },
  {
   "cell_type": "markdown",
   "metadata": {},
   "source": [
    "### NUMBER"
   ]
  },
  {
   "cell_type": "markdown",
   "metadata": {},
   "source": [
    "- 180 for each number for each grammatical role\n",
    "- 540 for each number type\n",
    "- 1620 instances in total for number, grammatical role and anaphor position"
   ]
  },
  {
   "cell_type": "code",
   "execution_count": 82,
   "metadata": {},
   "outputs": [],
   "source": [
    "num_spacy_path = '/Users/vicky/Desktop/Master/Period4/NLP/resit/data/number_position_synt_role_spacy_preds.csv'\n",
    "num_spacy_df = pd.read_csv(num_spacy_path, delimiter=',')\n",
    "num_bert_path = '/Users/vicky/Desktop/Master/Period4/NLP/resit/data/number_position_synt_role_bert_preds.csv'\n",
    "num_bert_df = pd.read_csv(num_bert_path, delimiter=',')"
   ]
  },
  {
   "cell_type": "code",
   "execution_count": 83,
   "metadata": {},
   "outputs": [
    {
     "name": "stdout",
     "output_type": "stream",
     "text": [
      "0.4831184775936157\n",
      "cataphora      530\n",
      "independent    172\n",
      "subordinate    140\n",
      "Name: position, dtype: int64\n",
      "\n",
      "obj_subj    336\n",
      "obj         267\n",
      "subj        239\n",
      "Name: syntactic_role, dtype: int64\n",
      "\n",
      "singular      330\n",
      "collective    262\n",
      "plural        250\n",
      "Name: number, dtype: int64\n"
     ]
    }
   ],
   "source": [
    "#spacy\n",
    "num_spacy_correct = num_spacy_df.loc[num_spacy_df['results']==1]\n",
    "num_spacy_false = num_spacy_df.loc[num_spacy_df['results']==0]\n",
    "\n",
    "num_accuracy_spacy = len(num_spacy_correct)/len(num_spacy_df)\n",
    "print(num_accuracy_spacy)\n",
    "print(num_spacy_false['position'].value_counts())\n",
    "print()\n",
    "print(num_spacy_false['syntactic_role'].value_counts())\n",
    "print()\n",
    "print(num_spacy_false['number'].value_counts())"
   ]
  },
  {
   "cell_type": "code",
   "execution_count": 84,
   "metadata": {},
   "outputs": [],
   "source": [
    "#this persentage is empty predictions\n",
    "# num_spacy_false_empty = num_spacy_false.loc[num_spacy_false['predictions']=='[]']\n",
    "# print(len(num_spacy_false_empty)/len(num_spacy_false))\n",
    "\n",
    "# print(num_spacy_false_empty['position'].value_counts())\n",
    "#sub = num_spacy_false_empty.loc[num_spacy_false_empty['position']=='subordinate']\n",
    "#"
   ]
  },
  {
   "cell_type": "code",
   "execution_count": 85,
   "metadata": {},
   "outputs": [
    {
     "name": "stdout",
     "output_type": "stream",
     "text": [
      "cataphora      179\n",
      "independent     79\n",
      "subordinate     72\n",
      "Name: position, dtype: int64\n",
      "\n",
      "obj_subj    129\n",
      "obj         108\n",
      "subj         93\n",
      "Name: syntactic_role, dtype: int64\n",
      "\n"
     ]
    }
   ],
   "source": [
    "sing = num_spacy_false.loc[num_spacy_false['number']=='singular']\n",
    "print(sing['position'].value_counts())\n",
    "print()\n",
    "print(sing['syntactic_role'].value_counts())\n",
    "print()\n",
    "\n",
    "#LETS TAKE THE SIMPLER VERSION - SINGULAR + SUBORDINATE\n",
    "# single_sub = num_spacy_false.loc[(num_spacy_false['number']=='singular') & (num_spacy_false['position']=='subordinate')]\n",
    "# print(single_sub['syntactic_role'].value_counts())\n",
    "\n",
    "#SINGULAR + INDEPENDENT\n",
    "# sing_ind = num_spacy_false.loc[(num_spacy_false['number']=='singular') & (num_spacy_false['position']=='independent')]\n",
    "# print(sing_ind['syntactic_role'].value_counts())\n",
    "\n",
    "#SINGULAR + CATAPHORA\n",
    "# sing_cat = num_spacy_false.loc[(num_spacy_false['number']=='singular') & (num_spacy_false['position']=='cataphora')]\n",
    "# print(sing_cat['syntactic_role'].value_counts())"
   ]
  },
  {
   "cell_type": "code",
   "execution_count": 86,
   "metadata": {},
   "outputs": [
    {
     "name": "stdout",
     "output_type": "stream",
     "text": [
      "cataphora      178\n",
      "independent     41\n",
      "subordinate     31\n",
      "Name: position, dtype: int64\n",
      "\n",
      "obj_subj    101\n",
      "obj          85\n",
      "subj         64\n",
      "Name: syntactic_role, dtype: int64\n",
      "\n"
     ]
    }
   ],
   "source": [
    "pl = num_spacy_false.loc[num_spacy_false['number']=='plural']\n",
    "print(pl['position'].value_counts())\n",
    "print()\n",
    "print(pl['syntactic_role'].value_counts())\n",
    "print()\n",
    "\n",
    "#LETS TAKE THE SIMPLER VERSION - PLURAL + SUBORDINATE\n",
    "# pl_sub = num_spacy_false.loc[(num_spacy_false['number']=='plural') & (num_spacy_false['position']=='subordinate')]\n",
    "# print(pl_sub['syntactic_role'].value_counts())\n",
    "\n",
    "#PLURAL + INDEPENDENT\n",
    "# pl_ind = num_spacy_false.loc[(num_spacy_false['number']=='plural') & (num_spacy_false['position']=='independent')]\n",
    "# print(pl_ind['syntactic_role'].value_counts())\n",
    "\n",
    "#PLURAL + CATAPHORA\n",
    "# pl_cat = num_spacy_false.loc[(num_spacy_false['number']=='plural') & (num_spacy_false['position']=='cataphora')]\n",
    "# print(pl_cat['syntactic_role'].value_counts())"
   ]
  },
  {
   "cell_type": "code",
   "execution_count": 77,
   "metadata": {},
   "outputs": [
    {
     "name": "stdout",
     "output_type": "stream",
     "text": [
      "cataphora      173\n",
      "independent     84\n",
      "subordinate     76\n",
      "Name: position, dtype: int64\n",
      "\n",
      "obj_subj    177\n",
      "subj         82\n",
      "obj          74\n",
      "Name: syntactic_role, dtype: int64\n",
      "\n",
      "subj        58\n",
      "obj         58\n",
      "obj_subj    57\n",
      "Name: syntactic_role, dtype: int64\n"
     ]
    }
   ],
   "source": [
    "col = num_spacy_false.loc[num_spacy_false['number']=='collective']\n",
    "print(col['position'].value_counts())\n",
    "print()\n",
    "print(col['syntactic_role'].value_counts())\n",
    "print()\n",
    "\n",
    "#LETS TAKE THE SIMPLER VERSION - COLLECTIVE + SUBORDINATE\n",
    "# col_sub = num_spacy_false.loc[(num_spacy_false['number']=='collective') & (num_spacy_false['position']=='subordinate')]\n",
    "# print(col_sub['syntactic_role'].value_counts())\n",
    "\n",
    "#COLLECTIVE + INDEPENDENT\n",
    "# col_ind = num_spacy_false.loc[(num_spacy_false['number']=='collective') & (num_spacy_false['position']=='independent')]\n",
    "# print(col_ind['syntactic_role'].value_counts())\n",
    "\n",
    "#COLLECTIVE + CATAPHORA\n",
    "col_cat = num_spacy_false.loc[(num_spacy_false['number']=='collective') & (num_spacy_false['position']=='cataphora')]\n",
    "print(col_cat['syntactic_role'].value_counts())"
   ]
  },
  {
   "cell_type": "markdown",
   "metadata": {},
   "source": [
    "-------------------------------------------------------------------------------------------------------------"
   ]
  },
  {
   "cell_type": "code",
   "execution_count": 88,
   "metadata": {},
   "outputs": [
    {
     "name": "stdout",
     "output_type": "stream",
     "text": [
      "0.6807857581338245\n",
      "cataphora      314\n",
      "subordinate    109\n",
      "independent     97\n",
      "Name: position, dtype: int64\n",
      "\n",
      "subj        205\n",
      "obj_subj    163\n",
      "obj         152\n",
      "Name: syntactic_role, dtype: int64\n",
      "\n",
      "singular      191\n",
      "collective    172\n",
      "plural        157\n",
      "Name: number, dtype: int64\n"
     ]
    }
   ],
   "source": [
    "#bert\n",
    "num_bert_correct = num_bert_df.loc[num_bert_df['results']==1]\n",
    "num_bert_false = num_bert_df.loc[num_bert_df['results']==0]\n",
    "\n",
    "num_accuracy_bert = len(num_bert_correct)/len(num_bert_df)\n",
    "num_accuracy_bert\n",
    "\n",
    "num_accuracy_bert = len(num_bert_correct)/len(num_bert_df)\n",
    "print(num_accuracy_bert)\n",
    "print(num_bert_false['position'].value_counts())\n",
    "print()\n",
    "print(num_bert_false['syntactic_role'].value_counts())\n",
    "print()\n",
    "print(num_bert_false['number'].value_counts())"
   ]
  },
  {
   "cell_type": "code",
   "execution_count": 92,
   "metadata": {},
   "outputs": [
    {
     "name": "stdout",
     "output_type": "stream",
     "text": [
      "cataphora      103\n",
      "subordinate     51\n",
      "independent     37\n",
      "Name: position, dtype: int64\n",
      "\n",
      "subj        95\n",
      "obj         55\n",
      "obj_subj    41\n",
      "Name: syntactic_role, dtype: int64\n",
      "\n",
      "subj        17\n",
      "obj         10\n",
      "obj_subj    10\n",
      "Name: syntactic_role, dtype: int64\n"
     ]
    }
   ],
   "source": [
    "sing = num_bert_false.loc[num_bert_false['number']=='singular']\n",
    "print(sing['position'].value_counts())\n",
    "print()\n",
    "print(sing['syntactic_role'].value_counts())\n",
    "print()\n",
    "\n",
    "#LETS TAKE THE SIMPLER VERSION - SINGULAR + SUBORDINATE\n",
    "# single_sub = num_bert_false.loc[(num_bert_false['number']=='singular') & (num_bert_false['position']=='subordinate')]\n",
    "# print(single_sub['syntactic_role'].value_counts())\n",
    "\n",
    "#SINGULAR + INDEPENDENT\n",
    "sing_ind = num_bert_false.loc[(num_bert_false['number']=='singular') & (num_bert_false['position']=='independent')]\n",
    "print(sing_ind['syntactic_role'].value_counts())\n",
    "\n",
    "#SINGULAR + CATAPHORA\n",
    "# sing_cat = num_bert_false.loc[(num_bert_false['number']=='singular') & (num_bert_false['position']=='cataphora')]\n",
    "# print(sing_cat['syntactic_role'].value_counts())"
   ]
  },
  {
   "cell_type": "markdown",
   "metadata": {},
   "source": [
    "### GENDER"
   ]
  },
  {
   "cell_type": "markdown",
   "metadata": {},
   "source": [
    "- 4 gender cases \n",
    "- 14 entities in every group of nouns that are either biased towards males or females * 6 for every gender case (3 for possessive pronoun instances + 3 for personal pronoun instances). => (14 * 6) * 4\n",
    "- half of the above are devoted to no extra noise cases and the other half to extra noise cases\n",
    "- in total we have [] instances that test the gender, anaphor type and ambiguity capabilities\n"
   ]
  },
  {
   "cell_type": "code",
   "execution_count": 93,
   "metadata": {},
   "outputs": [],
   "source": [
    "gender_spacy_path = '/Users/vicky/Desktop/Master/Period4/NLP/resit/data/gender_anaphortype_ambiguity_spacy_preds.csv'\n",
    "gender_spacy_df = pd.read_csv(gender_spacy_path, delimiter=',')\n",
    "gender_bert_path = '/Users/vicky/Desktop/Master/Period4/NLP/resit/data/gender_anaphortype_ambiguity_bert_preds.csv'\n",
    "gender_bert_df = pd.read_csv(gender_bert_path, delimiter=',')"
   ]
  },
  {
   "cell_type": "code",
   "execution_count": 98,
   "metadata": {},
   "outputs": [
    {
     "name": "stdout",
     "output_type": "stream",
     "text": [
      "0.7767857142857143\n",
      "bias male      60\n",
      "female    15\n",
      "Name: gender_bias, dtype: int64\n",
      "\n",
      "ambiguity 1    54\n",
      "0    21\n",
      "Name: ambiguity, dtype: int64\n",
      "\n",
      "pronoun PER_PRON    39\n",
      "POS_PRON    36\n",
      "Name: anaphor_type, dtype: int64\n",
      "\n",
      "1    66\n",
      "0     9\n",
      "Name: male_scores, dtype: int64\n",
      "0    66\n",
      "1     9\n",
      "Name: female_scores, dtype: int64\n"
     ]
    }
   ],
   "source": [
    "#spacy\n",
    "agree_spacy_df = gender_spacy_df.loc[gender_spacy_df['agreement_scores']==1]\n",
    "disagree_spacy_df = gender_spacy_df.loc[gender_spacy_df['agreement_scores']==0]\n",
    "\n",
    "\n",
    "agreement_score_spacy = len(agree_spacy_df)/len(gender_spacy_df)\n",
    "print(agreement_score_spacy)\n",
    "\n",
    "print('bias', disagree_spacy_df['gender_bias'].value_counts())\n",
    "print()\n",
    "print('ambiguity', disagree_spacy_df['ambiguity'].value_counts())\n",
    "print()\n",
    "print('pronoun', disagree_spacy_df['anaphor_type'].value_counts())\n",
    "print()\n",
    "print(disagree_spacy_df['male_scores'].value_counts())\n",
    "print(disagree_spacy_df['female_scores'].value_counts())\n",
    "\n",
    "male_bias = disagree_spacy_df.loc[disagree_spacy_df['gender_bias']=='male']\n",
    "female_bias = disagree_spacy_df.loc[disagree_spacy_df['gender_bias']=='female']\n"
   ]
  },
  {
   "cell_type": "code",
   "execution_count": 104,
   "metadata": {},
   "outputs": [
    {
     "data": {
      "text/plain": [
       "0.72"
      ]
     },
     "execution_count": 104,
     "metadata": {},
     "output_type": "execute_result"
    }
   ],
   "source": [
    "54/(54+21)"
   ]
  },
  {
   "cell_type": "code",
   "execution_count": 99,
   "metadata": {},
   "outputs": [
    {
     "name": "stdout",
     "output_type": "stream",
     "text": [
      "0.7291666666666666\n"
     ]
    }
   ],
   "source": [
    "#bert\n",
    "\n",
    "agree_bert_df = gender_bert_df.loc[gender_bert_df['agreement_scores']==1]\n",
    "disagree_bert_df = gender_bert_df.loc[gender_bert_df['agreement_scores']==0]\n",
    "\n",
    "agreement_score_bert = len(agree_bert_df)/len(gender_bert_df)\n",
    "\n",
    "print(agreement_score_bert)"
   ]
  },
  {
   "cell_type": "code",
   "execution_count": 97,
   "metadata": {},
   "outputs": [
    {
     "name": "stdout",
     "output_type": "stream",
     "text": [
      "bias male      68\n",
      "female    23\n",
      "Name: gender_bias, dtype: int64\n",
      "\n",
      "ambiguity 1    55\n",
      "0    36\n",
      "Name: ambiguity, dtype: int64\n",
      "\n",
      "pronoun PER_PRON    65\n",
      "POS_PRON    26\n",
      "Name: anaphor_type, dtype: int64\n",
      "\n",
      "1    74\n",
      "0    17\n",
      "Name: male_scores, dtype: int64\n",
      "0    74\n",
      "1    17\n",
      "Name: female_scores, dtype: int64\n"
     ]
    }
   ],
   "source": [
    "print('bias', disagree_bert_df['gender_bias'].value_counts())\n",
    "print()\n",
    "print('ambiguity', disagree_bert_df['ambiguity'].value_counts())\n",
    "print()\n",
    "print('pronoun', disagree_bert_df['anaphor_type'].value_counts())\n",
    "print()\n",
    "print(disagree_bert_df['male_scores'].value_counts())\n",
    "print(disagree_bert_df['female_scores'].value_counts())\n",
    "\n",
    "male_bias = disagree_bert_df.loc[disagree_bert_df['gender_bias']=='male']\n",
    "female_bias = disagree_bert_df.loc[disagree_bert_df['gender_bias']=='female']\n"
   ]
  },
  {
   "cell_type": "code",
   "execution_count": 102,
   "metadata": {},
   "outputs": [
    {
     "data": {
      "text/plain": [
       "1    9\n",
       "0    6\n",
       "Name: female_scores, dtype: int64"
      ]
     },
     "execution_count": 102,
     "metadata": {},
     "output_type": "execute_result"
    }
   ],
   "source": [
    "female_bias['female_scores'].value_counts()"
   ]
  },
  {
   "cell_type": "code",
   "execution_count": 103,
   "metadata": {},
   "outputs": [
    {
     "data": {
      "text/plain": [
       "0.6111111111111112"
      ]
     },
     "execution_count": 103,
     "metadata": {},
     "output_type": "execute_result"
    }
   ],
   "source": [
    "55/(35+55)"
   ]
  },
  {
   "cell_type": "code",
   "execution_count": null,
   "metadata": {},
   "outputs": [],
   "source": []
  }
 ],
 "metadata": {
  "kernelspec": {
   "display_name": "Python 3.8.13 ('allennlp')",
   "language": "python",
   "name": "python3"
  },
  "language_info": {
   "codemirror_mode": {
    "name": "ipython",
    "version": 3
   },
   "file_extension": ".py",
   "mimetype": "text/x-python",
   "name": "python",
   "nbconvert_exporter": "python",
   "pygments_lexer": "ipython3",
   "version": "3.8.13"
  },
  "orig_nbformat": 4,
  "vscode": {
   "interpreter": {
    "hash": "fe63fdb75901ed9c5bae6586d4023f713527f36356cceecbfa8fb53c7b4de172"
   }
  }
 },
 "nbformat": 4,
 "nbformat_minor": 2
}
