{
 "cells": [
  {
   "cell_type": "code",
   "execution_count": 7,
   "metadata": {},
   "outputs": [],
   "source": [
    "import spacy \n",
    "import neuralcoref\n",
    "from resit_utils import * \n",
    "import pandas as pd"
   ]
  },
  {
   "cell_type": "code",
   "execution_count": 8,
   "metadata": {},
   "outputs": [
    {
     "data": {
      "text/plain": [
       "<spacy.lang.en.English at 0x7ff2180dd750>"
      ]
     },
     "execution_count": 8,
     "metadata": {},
     "output_type": "execute_result"
    }
   ],
   "source": [
    "nlp = spacy.load('en')\n",
    "neuralcoref.add_to_pipe(nlp)"
   ]
  },
  {
   "cell_type": "code",
   "execution_count": 9,
   "metadata": {},
   "outputs": [],
   "source": [
    "sent = 'The troupe trie, but they fail.\t'\n",
    "doc = nlp(sent)\n",
    "doc._.has_coref\n",
    "clusters = doc._.coref_clusters\n"
   ]
  },
  {
   "cell_type": "markdown",
   "metadata": {},
   "source": [
    "### Non anaphoric it"
   ]
  },
  {
   "cell_type": "code",
   "execution_count": 4,
   "metadata": {},
   "outputs": [
    {
     "name": "stderr",
     "output_type": "stream",
     "text": [
      "/Users/vicky/Desktop/Master/Period4/NLP/resit/resit_utils.py:112: VisibleDeprecationWarning: Creating an ndarray from ragged nested sequences (which is a list-or-tuple of lists-or-tuples-or ndarrays with different lengths or shapes) is deprecated. If you meant to do this, you must specify 'dtype=object' when creating the ndarray.\n",
      "  df['predictions'] = np.array(predictions)\n"
     ]
    }
   ],
   "source": [
    "non_anaphoric_path = '/Users/vicky/Desktop/Master/Period4/NLP/resit/data/non_anaphoric_it.csv'\n",
    "non_anaphoric_df = pd.read_csv(non_anaphoric_path, delimiter=',')\n",
    "predict_neuralcoref(non_anaphoric_df)"
   ]
  },
  {
   "cell_type": "code",
   "execution_count": 5,
   "metadata": {},
   "outputs": [],
   "source": [
    "evaluate_non_anaphoric_it(non_anaphoric_df)\n",
    "#all results are correct\n",
    "\n",
    "target_path = '/Users/vicky/Desktop/Master/Period4/NLP/resit/data/non_anaphoric_it_spacy_preds.csv'\n",
    "non_anaphoric_df.to_csv(target_path)"
   ]
  },
  {
   "cell_type": "markdown",
   "metadata": {},
   "source": [
    "### GENDER"
   ]
  },
  {
   "cell_type": "code",
   "execution_count": 15,
   "metadata": {},
   "outputs": [],
   "source": [
    "gender_path = '/Users/vicky/Desktop/Master/Period4/NLP/resit/data/gender_anaphortype_ambiguity.csv'\n",
    "gender_df = pd.read_csv(gender_path, delimiter=',')"
   ]
  },
  {
   "cell_type": "code",
   "execution_count": 16,
   "metadata": {},
   "outputs": [
    {
     "name": "stderr",
     "output_type": "stream",
     "text": [
      "/Users/vicky/Desktop/Master/Period4/NLP/resit/resit_utils.py:99: VisibleDeprecationWarning: Creating an ndarray from ragged nested sequences (which is a list-or-tuple of lists-or-tuples-or ndarrays with different lengths or shapes) is deprecated. If you meant to do this, you must specify 'dtype=object' when creating the ndarray.\n",
      "  df[ref+'_predictions'] = np.array(predictions)\n"
     ]
    }
   ],
   "source": [
    "predict_neuralcoref(gender_df, gender=True)"
   ]
  },
  {
   "cell_type": "code",
   "execution_count": 17,
   "metadata": {},
   "outputs": [],
   "source": [
    "evaluate_gender(gender_df)"
   ]
  },
  {
   "cell_type": "code",
   "execution_count": 18,
   "metadata": {},
   "outputs": [],
   "source": [
    "target_gender_path = '/Users/vicky/Desktop/Master/Period4/NLP/resit/data/gender_anaphortype_ambiguity_spacy_preds.csv'\n",
    "gender_df.to_csv(target_gender_path)"
   ]
  },
  {
   "cell_type": "markdown",
   "metadata": {},
   "source": [
    "### Number"
   ]
  },
  {
   "cell_type": "code",
   "execution_count": 10,
   "metadata": {},
   "outputs": [],
   "source": [
    "num_path = '/Users/vicky/Desktop/Master/Period4/NLP/resit/data/number_position_synt_role.csv'\n",
    "num_df = pd.read_csv(num_path, delimiter=',')\n",
    "num_df.rename(columns={'sentence':'sentences'}, inplace=True)"
   ]
  },
  {
   "cell_type": "code",
   "execution_count": 11,
   "metadata": {},
   "outputs": [
    {
     "name": "stderr",
     "output_type": "stream",
     "text": [
      "/Users/vicky/Desktop/Master/Period4/NLP/resit/resit_utils.py:112: VisibleDeprecationWarning: Creating an ndarray from ragged nested sequences (which is a list-or-tuple of lists-or-tuples-or ndarrays with different lengths or shapes) is deprecated. If you meant to do this, you must specify 'dtype=object' when creating the ndarray.\n",
      "  df['predictions'] = np.array(predictions)\n"
     ]
    }
   ],
   "source": [
    "predict_neuralcoref(num_df)"
   ]
  },
  {
   "cell_type": "code",
   "execution_count": 12,
   "metadata": {},
   "outputs": [],
   "source": [
    "evaluate_number(num_df)"
   ]
  },
  {
   "cell_type": "code",
   "execution_count": 13,
   "metadata": {},
   "outputs": [],
   "source": [
    "target_num_path = '/Users/vicky/Desktop/Master/Period4/NLP/resit/data/number_position_synt_role_spacy_preds.csv'\n",
    "num_df.to_csv(target_num_path)"
   ]
  },
  {
   "cell_type": "code",
   "execution_count": 14,
   "metadata": {},
   "outputs": [
    {
     "data": {
      "text/html": [
       "<div>\n",
       "<style scoped>\n",
       "    .dataframe tbody tr th:only-of-type {\n",
       "        vertical-align: middle;\n",
       "    }\n",
       "\n",
       "    .dataframe tbody tr th {\n",
       "        vertical-align: top;\n",
       "    }\n",
       "\n",
       "    .dataframe thead th {\n",
       "        text-align: right;\n",
       "    }\n",
       "</style>\n",
       "<table border=\"1\" class=\"dataframe\">\n",
       "  <thead>\n",
       "    <tr style=\"text-align: right;\">\n",
       "      <th></th>\n",
       "      <th>Unnamed: 0</th>\n",
       "      <th>sentences</th>\n",
       "      <th>position</th>\n",
       "      <th>syntactic_role</th>\n",
       "      <th>number</th>\n",
       "      <th>gold</th>\n",
       "      <th>predictions</th>\n",
       "      <th>results</th>\n",
       "    </tr>\n",
       "  </thead>\n",
       "  <tbody>\n",
       "    <tr>\n",
       "      <th>0</th>\n",
       "      <td>0</td>\n",
       "      <td>After the car exploded, it was completely dest...</td>\n",
       "      <td>subordinate</td>\n",
       "      <td>subj</td>\n",
       "      <td>singular</td>\n",
       "      <td>[the car, it]</td>\n",
       "      <td>[[the car exploded, it]]</td>\n",
       "      <td>0</td>\n",
       "    </tr>\n",
       "    <tr>\n",
       "      <th>1</th>\n",
       "      <td>1</td>\n",
       "      <td>The car exploded. It was completely destroyed.</td>\n",
       "      <td>independent</td>\n",
       "      <td>subj</td>\n",
       "      <td>singular</td>\n",
       "      <td>[The car, It]</td>\n",
       "      <td>[[The car, It]]</td>\n",
       "      <td>1</td>\n",
       "    </tr>\n",
       "    <tr>\n",
       "      <th>2</th>\n",
       "      <td>2</td>\n",
       "      <td>After it exploded, the car was completely dest...</td>\n",
       "      <td>cataphora</td>\n",
       "      <td>subj</td>\n",
       "      <td>singular</td>\n",
       "      <td>[it, the car]</td>\n",
       "      <td>[]</td>\n",
       "      <td>0</td>\n",
       "    </tr>\n",
       "    <tr>\n",
       "      <th>3</th>\n",
       "      <td>3</td>\n",
       "      <td>After the car crashed, it was completely subme...</td>\n",
       "      <td>subordinate</td>\n",
       "      <td>subj</td>\n",
       "      <td>singular</td>\n",
       "      <td>[the car, it]</td>\n",
       "      <td>[[the car, it]]</td>\n",
       "      <td>1</td>\n",
       "    </tr>\n",
       "    <tr>\n",
       "      <th>4</th>\n",
       "      <td>4</td>\n",
       "      <td>The car crashed. It was completely submerged.</td>\n",
       "      <td>independent</td>\n",
       "      <td>subj</td>\n",
       "      <td>singular</td>\n",
       "      <td>[The car, It]</td>\n",
       "      <td>[[The car, It]]</td>\n",
       "      <td>1</td>\n",
       "    </tr>\n",
       "    <tr>\n",
       "      <th>...</th>\n",
       "      <td>...</td>\n",
       "      <td>...</td>\n",
       "      <td>...</td>\n",
       "      <td>...</td>\n",
       "      <td>...</td>\n",
       "      <td>...</td>\n",
       "      <td>...</td>\n",
       "      <td>...</td>\n",
       "    </tr>\n",
       "    <tr>\n",
       "      <th>1624</th>\n",
       "      <td>175</td>\n",
       "      <td>The protester stops the troupe. They leave.</td>\n",
       "      <td>independent</td>\n",
       "      <td>obj_subj</td>\n",
       "      <td>collective</td>\n",
       "      <td>[the troupe, They]</td>\n",
       "      <td>[[The protester, They]]</td>\n",
       "      <td>0</td>\n",
       "    </tr>\n",
       "    <tr>\n",
       "      <th>1625</th>\n",
       "      <td>176</td>\n",
       "      <td>The protester stops them, and the troupe leave.</td>\n",
       "      <td>cataphora</td>\n",
       "      <td>obj_subj</td>\n",
       "      <td>collective</td>\n",
       "      <td>[them, the troupe]</td>\n",
       "      <td>[]</td>\n",
       "      <td>0</td>\n",
       "    </tr>\n",
       "    <tr>\n",
       "      <th>1626</th>\n",
       "      <td>177</td>\n",
       "      <td>The protester confronts the troupe, and they l...</td>\n",
       "      <td>subordinate</td>\n",
       "      <td>obj_subj</td>\n",
       "      <td>collective</td>\n",
       "      <td>[the troupe, they]</td>\n",
       "      <td>[[The protester, they]]</td>\n",
       "      <td>0</td>\n",
       "    </tr>\n",
       "    <tr>\n",
       "      <th>1627</th>\n",
       "      <td>178</td>\n",
       "      <td>The protester confronts the troupe. They leave.</td>\n",
       "      <td>independent</td>\n",
       "      <td>obj_subj</td>\n",
       "      <td>collective</td>\n",
       "      <td>[the troupe, They]</td>\n",
       "      <td>[[The protester, They]]</td>\n",
       "      <td>0</td>\n",
       "    </tr>\n",
       "    <tr>\n",
       "      <th>1628</th>\n",
       "      <td>179</td>\n",
       "      <td>The protester confronts them, and the troupe l...</td>\n",
       "      <td>cataphora</td>\n",
       "      <td>obj_subj</td>\n",
       "      <td>collective</td>\n",
       "      <td>[them, the troupe]</td>\n",
       "      <td>[]</td>\n",
       "      <td>0</td>\n",
       "    </tr>\n",
       "  </tbody>\n",
       "</table>\n",
       "<p>1629 rows × 8 columns</p>\n",
       "</div>"
      ],
      "text/plain": [
       "      Unnamed: 0                                          sentences  \\\n",
       "0              0  After the car exploded, it was completely dest...   \n",
       "1              1     The car exploded. It was completely destroyed.   \n",
       "2              2  After it exploded, the car was completely dest...   \n",
       "3              3  After the car crashed, it was completely subme...   \n",
       "4              4      The car crashed. It was completely submerged.   \n",
       "...          ...                                                ...   \n",
       "1624         175        The protester stops the troupe. They leave.   \n",
       "1625         176    The protester stops them, and the troupe leave.   \n",
       "1626         177  The protester confronts the troupe, and they l...   \n",
       "1627         178    The protester confronts the troupe. They leave.   \n",
       "1628         179  The protester confronts them, and the troupe l...   \n",
       "\n",
       "         position syntactic_role      number                gold  \\\n",
       "0     subordinate           subj    singular       [the car, it]   \n",
       "1     independent           subj    singular       [The car, It]   \n",
       "2       cataphora           subj    singular       [it, the car]   \n",
       "3     subordinate           subj    singular       [the car, it]   \n",
       "4     independent           subj    singular       [The car, It]   \n",
       "...           ...            ...         ...                 ...   \n",
       "1624  independent       obj_subj  collective  [the troupe, They]   \n",
       "1625    cataphora       obj_subj  collective  [them, the troupe]   \n",
       "1626  subordinate       obj_subj  collective  [the troupe, they]   \n",
       "1627  independent       obj_subj  collective  [the troupe, They]   \n",
       "1628    cataphora       obj_subj  collective  [them, the troupe]   \n",
       "\n",
       "                   predictions  results  \n",
       "0     [[the car exploded, it]]        0  \n",
       "1              [[The car, It]]        1  \n",
       "2                           []        0  \n",
       "3              [[the car, it]]        1  \n",
       "4              [[The car, It]]        1  \n",
       "...                        ...      ...  \n",
       "1624   [[The protester, They]]        0  \n",
       "1625                        []        0  \n",
       "1626   [[The protester, they]]        0  \n",
       "1627   [[The protester, They]]        0  \n",
       "1628                        []        0  \n",
       "\n",
       "[1629 rows x 8 columns]"
      ]
     },
     "execution_count": 14,
     "metadata": {},
     "output_type": "execute_result"
    }
   ],
   "source": [
    "num_df"
   ]
  },
  {
   "cell_type": "code",
   "execution_count": null,
   "metadata": {},
   "outputs": [],
   "source": []
  }
 ],
 "metadata": {
  "kernelspec": {
   "display_name": "Python 3.7.13 ('COREF')",
   "language": "python",
   "name": "python3"
  },
  "language_info": {
   "codemirror_mode": {
    "name": "ipython",
    "version": 3
   },
   "file_extension": ".py",
   "mimetype": "text/x-python",
   "name": "python",
   "nbconvert_exporter": "python",
   "pygments_lexer": "ipython3",
   "version": "3.7.13"
  },
  "orig_nbformat": 4,
  "vscode": {
   "interpreter": {
    "hash": "0ab5303b2a54d82a110b86b6ac6578a09af27174c40df4b4f0ffc0e1f29cbf13"
   }
  }
 },
 "nbformat": 4,
 "nbformat_minor": 2
}
