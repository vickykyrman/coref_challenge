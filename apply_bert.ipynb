{
 "cells": [
  {
   "cell_type": "code",
   "execution_count": 1,
   "metadata": {},
   "outputs": [],
   "source": [
    "from allennlp_models.pretrained import load_predictor\n",
    "import numpy as np\n",
    "from  resit_utils import predict_and_transform_spanbert, evaluate_non_anaphoric_it, evaluate_number, evaluate_gender\n",
    "import pandas as pd"
   ]
  },
  {
   "cell_type": "code",
   "execution_count": 2,
   "metadata": {},
   "outputs": [
    {
     "name": "stderr",
     "output_type": "stream",
     "text": [
      "lerc is not a registered model.\n",
      "Some weights of BertModel were not initialized from the model checkpoint at SpanBERT/spanbert-large-cased and are newly initialized: ['bert.pooler.dense.bias', 'bert.pooler.dense.weight']\n",
      "You should probably TRAIN this model on a down-stream task to be able to use it for predictions and inference.\n"
     ]
    }
   ],
   "source": [
    "#allennlp model (2018)\n",
    "allen_bert = load_predictor('coref-spanbert')"
   ]
  },
  {
   "cell_type": "markdown",
   "metadata": {},
   "source": [
    "### Non-anaphoric it"
   ]
  },
  {
   "cell_type": "code",
   "execution_count": 3,
   "metadata": {},
   "outputs": [],
   "source": [
    "non_anaphoric_path = '/Users/vicky/Desktop/Master/Period4/NLP/resit/data/non_anaphoric_it.csv'\n",
    "non_anaphoric_df = pd.read_csv(non_anaphoric_path, delimiter=',')"
   ]
  },
  {
   "cell_type": "code",
   "execution_count": 4,
   "metadata": {},
   "outputs": [
    {
     "name": "stderr",
     "output_type": "stream",
     "text": [
      "/Users/vicky/Desktop/Master/Period4/NLP/resit/resit_utils.py:78: VisibleDeprecationWarning: Creating an ndarray from ragged nested sequences (which is a list-or-tuple of lists-or-tuples-or ndarrays with different lengths or shapes) is deprecated. If you meant to do this, you must specify 'dtype=object' when creating the ndarray.\n",
      "  df['predictions'] = np.array(predictions)\n"
     ]
    }
   ],
   "source": [
    "predict_and_transform_spanbert(non_anaphoric_df, allen_bert)"
   ]
  },
  {
   "cell_type": "code",
   "execution_count": 5,
   "metadata": {},
   "outputs": [],
   "source": [
    "evaluate_non_anaphoric_it(non_anaphoric_df)"
   ]
  },
  {
   "cell_type": "code",
   "execution_count": 6,
   "metadata": {},
   "outputs": [],
   "source": [
    "target_path = '/Users/vicky/Desktop/Master/Period4/NLP/resit/data/non_anaphoric_it_bert_preds.csv'\n",
    "non_anaphoric_df.to_csv(target_path)"
   ]
  },
  {
   "cell_type": "markdown",
   "metadata": {},
   "source": [
    "### NUMBER"
   ]
  },
  {
   "cell_type": "code",
   "execution_count": 3,
   "metadata": {},
   "outputs": [],
   "source": [
    "num_path = '/Users/vicky/Desktop/Master/Period4/NLP/resit/data/number_position_synt_role.csv'\n",
    "num_df = pd.read_csv(num_path, delimiter=',')\n",
    "num_df.rename(columns={'sentence':'sentences'}, inplace=True)"
   ]
  },
  {
   "cell_type": "code",
   "execution_count": 4,
   "metadata": {},
   "outputs": [
    {
     "name": "stderr",
     "output_type": "stream",
     "text": [
      "/Users/vicky/Desktop/Master/Period4/NLP/resit/resit_utils.py:78: VisibleDeprecationWarning: Creating an ndarray from ragged nested sequences (which is a list-or-tuple of lists-or-tuples-or ndarrays with different lengths or shapes) is deprecated. If you meant to do this, you must specify 'dtype=object' when creating the ndarray.\n",
      "  df['predictions'] = np.array(predictions)\n"
     ]
    }
   ],
   "source": [
    "predict_and_transform_spanbert(num_df, allen_bert)"
   ]
  },
  {
   "cell_type": "code",
   "execution_count": 5,
   "metadata": {},
   "outputs": [
    {
     "data": {
      "text/html": [
       "<div>\n",
       "<style scoped>\n",
       "    .dataframe tbody tr th:only-of-type {\n",
       "        vertical-align: middle;\n",
       "    }\n",
       "\n",
       "    .dataframe tbody tr th {\n",
       "        vertical-align: top;\n",
       "    }\n",
       "\n",
       "    .dataframe thead th {\n",
       "        text-align: right;\n",
       "    }\n",
       "</style>\n",
       "<table border=\"1\" class=\"dataframe\">\n",
       "  <thead>\n",
       "    <tr style=\"text-align: right;\">\n",
       "      <th></th>\n",
       "      <th>Unnamed: 0</th>\n",
       "      <th>sentences</th>\n",
       "      <th>position</th>\n",
       "      <th>gold</th>\n",
       "      <th>syntactic_role</th>\n",
       "      <th>number</th>\n",
       "      <th>predictions</th>\n",
       "    </tr>\n",
       "  </thead>\n",
       "  <tbody>\n",
       "    <tr>\n",
       "      <th>0</th>\n",
       "      <td>0</td>\n",
       "      <td>After the car exploded, it was completely dest...</td>\n",
       "      <td>subordinate</td>\n",
       "      <td>the car,it</td>\n",
       "      <td>subj</td>\n",
       "      <td>singular</td>\n",
       "      <td>[[the car, it]]</td>\n",
       "    </tr>\n",
       "    <tr>\n",
       "      <th>1</th>\n",
       "      <td>1</td>\n",
       "      <td>The car exploded. It was completely destroyed.</td>\n",
       "      <td>independent</td>\n",
       "      <td>The car,It</td>\n",
       "      <td>subj</td>\n",
       "      <td>singular</td>\n",
       "      <td>[[The car, It]]</td>\n",
       "    </tr>\n",
       "    <tr>\n",
       "      <th>2</th>\n",
       "      <td>2</td>\n",
       "      <td>After it exploded, the car was completely dest...</td>\n",
       "      <td>cataphora</td>\n",
       "      <td>it,the car</td>\n",
       "      <td>subj</td>\n",
       "      <td>singular</td>\n",
       "      <td>[]</td>\n",
       "    </tr>\n",
       "    <tr>\n",
       "      <th>3</th>\n",
       "      <td>3</td>\n",
       "      <td>After the car crashed, it was completely subme...</td>\n",
       "      <td>subordinate</td>\n",
       "      <td>the car,it</td>\n",
       "      <td>subj</td>\n",
       "      <td>singular</td>\n",
       "      <td>[[the car, it]]</td>\n",
       "    </tr>\n",
       "    <tr>\n",
       "      <th>4</th>\n",
       "      <td>4</td>\n",
       "      <td>The car crashed. It was completely submerged.</td>\n",
       "      <td>independent</td>\n",
       "      <td>The car,It</td>\n",
       "      <td>subj</td>\n",
       "      <td>singular</td>\n",
       "      <td>[[The car, It]]</td>\n",
       "    </tr>\n",
       "    <tr>\n",
       "      <th>...</th>\n",
       "      <td>...</td>\n",
       "      <td>...</td>\n",
       "      <td>...</td>\n",
       "      <td>...</td>\n",
       "      <td>...</td>\n",
       "      <td>...</td>\n",
       "      <td>...</td>\n",
       "    </tr>\n",
       "    <tr>\n",
       "      <th>1624</th>\n",
       "      <td>175</td>\n",
       "      <td>The protester stops the troupe. They leave.</td>\n",
       "      <td>independent</td>\n",
       "      <td>the troupe,They</td>\n",
       "      <td>obj_subj</td>\n",
       "      <td>collective</td>\n",
       "      <td>[[the troupe, They]]</td>\n",
       "    </tr>\n",
       "    <tr>\n",
       "      <th>1625</th>\n",
       "      <td>176</td>\n",
       "      <td>The protester stops them, and the troupe leave.</td>\n",
       "      <td>cataphora</td>\n",
       "      <td>them,the troupe</td>\n",
       "      <td>obj_subj</td>\n",
       "      <td>collective</td>\n",
       "      <td>[[them, the troupe]]</td>\n",
       "    </tr>\n",
       "    <tr>\n",
       "      <th>1626</th>\n",
       "      <td>177</td>\n",
       "      <td>The protester confronts the troupe, and they l...</td>\n",
       "      <td>subordinate</td>\n",
       "      <td>the troupe,they</td>\n",
       "      <td>obj_subj</td>\n",
       "      <td>collective</td>\n",
       "      <td>[[the troupe, they]]</td>\n",
       "    </tr>\n",
       "    <tr>\n",
       "      <th>1627</th>\n",
       "      <td>178</td>\n",
       "      <td>The protester confronts the troupe. They leave.</td>\n",
       "      <td>independent</td>\n",
       "      <td>the troupe,They</td>\n",
       "      <td>obj_subj</td>\n",
       "      <td>collective</td>\n",
       "      <td>[[the troupe, They]]</td>\n",
       "    </tr>\n",
       "    <tr>\n",
       "      <th>1628</th>\n",
       "      <td>179</td>\n",
       "      <td>The protester confronts them, and the troupe l...</td>\n",
       "      <td>cataphora</td>\n",
       "      <td>them,the troupe</td>\n",
       "      <td>obj_subj</td>\n",
       "      <td>collective</td>\n",
       "      <td>[[them, the troupe]]</td>\n",
       "    </tr>\n",
       "  </tbody>\n",
       "</table>\n",
       "<p>1629 rows × 7 columns</p>\n",
       "</div>"
      ],
      "text/plain": [
       "      Unnamed: 0                                          sentences  \\\n",
       "0              0  After the car exploded, it was completely dest...   \n",
       "1              1     The car exploded. It was completely destroyed.   \n",
       "2              2  After it exploded, the car was completely dest...   \n",
       "3              3  After the car crashed, it was completely subme...   \n",
       "4              4      The car crashed. It was completely submerged.   \n",
       "...          ...                                                ...   \n",
       "1624         175        The protester stops the troupe. They leave.   \n",
       "1625         176    The protester stops them, and the troupe leave.   \n",
       "1626         177  The protester confronts the troupe, and they l...   \n",
       "1627         178    The protester confronts the troupe. They leave.   \n",
       "1628         179  The protester confronts them, and the troupe l...   \n",
       "\n",
       "         position             gold syntactic_role      number  \\\n",
       "0     subordinate       the car,it           subj    singular   \n",
       "1     independent       The car,It           subj    singular   \n",
       "2       cataphora       it,the car           subj    singular   \n",
       "3     subordinate       the car,it           subj    singular   \n",
       "4     independent       The car,It           subj    singular   \n",
       "...           ...              ...            ...         ...   \n",
       "1624  independent  the troupe,They       obj_subj  collective   \n",
       "1625    cataphora  them,the troupe       obj_subj  collective   \n",
       "1626  subordinate  the troupe,they       obj_subj  collective   \n",
       "1627  independent  the troupe,They       obj_subj  collective   \n",
       "1628    cataphora  them,the troupe       obj_subj  collective   \n",
       "\n",
       "               predictions  \n",
       "0          [[the car, it]]  \n",
       "1          [[The car, It]]  \n",
       "2                       []  \n",
       "3          [[the car, it]]  \n",
       "4          [[The car, It]]  \n",
       "...                    ...  \n",
       "1624  [[the troupe, They]]  \n",
       "1625  [[them, the troupe]]  \n",
       "1626  [[the troupe, they]]  \n",
       "1627  [[the troupe, They]]  \n",
       "1628  [[them, the troupe]]  \n",
       "\n",
       "[1629 rows x 7 columns]"
      ]
     },
     "execution_count": 5,
     "metadata": {},
     "output_type": "execute_result"
    }
   ],
   "source": [
    "num_df"
   ]
  },
  {
   "cell_type": "code",
   "execution_count": 9,
   "metadata": {},
   "outputs": [],
   "source": [
    "def evaluate_number(number_df):\n",
    "    '''\n",
    "    Evaluate the number challenge dataset based on the word clusters'''\n",
    "    result=[]\n",
    "    processed_gold = []\n",
    "    for i, row in number_df.iterrows():\n",
    "        prediction = row['predictions']\n",
    "        gold = [row['gold']]\n",
    "        print(gold)\n",
    "        gold = gold[0].split(\",\")\n",
    "        processed_gold.append(gold)\n",
    "\n",
    "        if gold in prediction: #if the gold cluster is found inside the list of clusters\n",
    "            score = 1\n",
    "        else:\n",
    "            score = 0\n",
    "        \n",
    "        result.append(score)\n",
    "    \n",
    "    number_df['results']=np.array(result)\n",
    "    number_df.drop('gold', inplace=True, axis=1)\n",
    "    number_df.insert(5, 'gold', processed_gold)"
   ]
  },
  {
   "cell_type": "code",
   "execution_count": 10,
   "metadata": {},
   "outputs": [
    {
     "name": "stdout",
     "output_type": "stream",
     "text": [
      "[['the car', 'it']]\n"
     ]
    },
    {
     "ename": "AttributeError",
     "evalue": "'list' object has no attribute 'split'",
     "output_type": "error",
     "traceback": [
      "\u001b[0;31m---------------------------------------------------------------------------\u001b[0m",
      "\u001b[0;31mAttributeError\u001b[0m                            Traceback (most recent call last)",
      "\u001b[1;32m/Users/vicky/Desktop/Master/Period4/NLP/resit/apply_bert.ipynb Cell 13'\u001b[0m in \u001b[0;36m<cell line: 1>\u001b[0;34m()\u001b[0m\n\u001b[0;32m----> <a href='vscode-notebook-cell:/Users/vicky/Desktop/Master/Period4/NLP/resit/apply_bert.ipynb#ch0000012?line=0'>1</a>\u001b[0m evaluate_number(num_df)\n",
      "\u001b[1;32m/Users/vicky/Desktop/Master/Period4/NLP/resit/apply_bert.ipynb Cell 12'\u001b[0m in \u001b[0;36mevaluate_number\u001b[0;34m(number_df)\u001b[0m\n\u001b[1;32m      <a href='vscode-notebook-cell:/Users/vicky/Desktop/Master/Period4/NLP/resit/apply_bert.ipynb#ch0000011?line=7'>8</a>\u001b[0m gold \u001b[39m=\u001b[39m [row[\u001b[39m'\u001b[39m\u001b[39mgold\u001b[39m\u001b[39m'\u001b[39m]]\n\u001b[1;32m      <a href='vscode-notebook-cell:/Users/vicky/Desktop/Master/Period4/NLP/resit/apply_bert.ipynb#ch0000011?line=8'>9</a>\u001b[0m \u001b[39mprint\u001b[39m(gold)\n\u001b[0;32m---> <a href='vscode-notebook-cell:/Users/vicky/Desktop/Master/Period4/NLP/resit/apply_bert.ipynb#ch0000011?line=9'>10</a>\u001b[0m gold \u001b[39m=\u001b[39m gold[\u001b[39m0\u001b[39;49m]\u001b[39m.\u001b[39;49msplit(\u001b[39m\"\u001b[39m\u001b[39m,\u001b[39m\u001b[39m\"\u001b[39m)\n\u001b[1;32m     <a href='vscode-notebook-cell:/Users/vicky/Desktop/Master/Period4/NLP/resit/apply_bert.ipynb#ch0000011?line=10'>11</a>\u001b[0m processed_gold\u001b[39m.\u001b[39mappend(gold)\n\u001b[1;32m     <a href='vscode-notebook-cell:/Users/vicky/Desktop/Master/Period4/NLP/resit/apply_bert.ipynb#ch0000011?line=12'>13</a>\u001b[0m \u001b[39mif\u001b[39;00m gold \u001b[39min\u001b[39;00m prediction: \u001b[39m#if the gold cluster is found inside the list of clusters\u001b[39;00m\n",
      "\u001b[0;31mAttributeError\u001b[0m: 'list' object has no attribute 'split'"
     ]
    }
   ],
   "source": [
    "evaluate_number(num_df)"
   ]
  },
  {
   "cell_type": "code",
   "execution_count": 11,
   "metadata": {},
   "outputs": [],
   "source": [
    "target_num_path = '/Users/vicky/Desktop/Master/Period4/NLP/resit/data/number_position_synt_role_bert_preds.csv'\n",
    "num_df.to_csv(target_num_path)"
   ]
  },
  {
   "cell_type": "markdown",
   "metadata": {},
   "source": [
    "### GENDER"
   ]
  },
  {
   "cell_type": "code",
   "execution_count": 12,
   "metadata": {},
   "outputs": [],
   "source": [
    "gender_path = '/Users/vicky/Desktop/Master/Period4/NLP/resit/data/gender_anaphortype_ambiguity.csv'\n",
    "gender_df = pd.read_csv(gender_path, delimiter = \",\")"
   ]
  },
  {
   "cell_type": "code",
   "execution_count": 13,
   "metadata": {},
   "outputs": [
    {
     "name": "stderr",
     "output_type": "stream",
     "text": [
      "/Users/vicky/Desktop/Master/Period4/NLP/resit/resit_utils.py:55: VisibleDeprecationWarning: Creating an ndarray from ragged nested sequences (which is a list-or-tuple of lists-or-tuples-or ndarrays with different lengths or shapes) is deprecated. If you meant to do this, you must specify 'dtype=object' when creating the ndarray.\n",
      "  df[ref+'_predictions'] = np.array(predictions)\n",
      "/Users/vicky/Desktop/Master/Period4/NLP/resit/resit_utils.py:55: VisibleDeprecationWarning: Creating an ndarray from ragged nested sequences (which is a list-or-tuple of lists-or-tuples-or ndarrays with different lengths or shapes) is deprecated. If you meant to do this, you must specify 'dtype=object' when creating the ndarray.\n",
      "  df[ref+'_predictions'] = np.array(predictions)\n"
     ]
    }
   ],
   "source": [
    "predict_and_transform_spanbert(gender_df, allen_bert, gender=True)"
   ]
  },
  {
   "cell_type": "code",
   "execution_count": 16,
   "metadata": {},
   "outputs": [],
   "source": [
    "evaluate_gender(gender_df)"
   ]
  },
  {
   "cell_type": "code",
   "execution_count": 17,
   "metadata": {},
   "outputs": [],
   "source": [
    "target_gender_path = '/Users/vicky/Desktop/Master/Period4/NLP/resit/data/gender_anaphortype_ambiguity_bert_preds.csv'\n",
    "gender_df.to_csv(target_gender_path)"
   ]
  },
  {
   "cell_type": "code",
   "execution_count": null,
   "metadata": {},
   "outputs": [],
   "source": []
  }
 ],
 "metadata": {
  "kernelspec": {
   "display_name": "Python 3.8.13 ('allennlp')",
   "language": "python",
   "name": "python3"
  },
  "language_info": {
   "codemirror_mode": {
    "name": "ipython",
    "version": 3
   },
   "file_extension": ".py",
   "mimetype": "text/x-python",
   "name": "python",
   "nbconvert_exporter": "python",
   "pygments_lexer": "ipython3",
   "version": "3.8.13"
  },
  "orig_nbformat": 4,
  "vscode": {
   "interpreter": {
    "hash": "fe63fdb75901ed9c5bae6586d4023f713527f36356cceecbfa8fb53c7b4de172"
   }
  }
 },
 "nbformat": 4,
 "nbformat_minor": 2
}
