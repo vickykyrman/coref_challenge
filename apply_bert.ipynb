{
 "cells": [
  {
   "cell_type": "code",
   "execution_count": null,
   "metadata": {},
   "outputs": [],
   "source": [
    "from allennlp_models.pretrained import load_predictor\n",
    "import numpy as np\n",
    "from  resit_utils import predict_and_transform_spanbert, evaluate_non_anaphoric_it, evaluate_number, evaluate_gender\n",
    "import pandas as pd"
   ]
  },
  {
   "cell_type": "code",
   "execution_count": null,
   "metadata": {},
   "outputs": [],
   "source": [
    "#allennlp model (2018)\n",
    "allen_bert = load_predictor('coref-spanbert')"
   ]
  },
  {
   "cell_type": "markdown",
   "metadata": {},
   "source": [
    "### Non-anaphoric it"
   ]
  },
  {
   "cell_type": "code",
   "execution_count": null,
   "metadata": {},
   "outputs": [],
   "source": [
    "non_anaphoric_path = '../data/non_anaphoric_it.csv'\n",
    "non_anaphoric_df = pd.read_csv(non_anaphoric_path, delimiter=',')"
   ]
  },
  {
   "cell_type": "code",
   "execution_count": null,
   "metadata": {},
   "outputs": [],
   "source": [
    "predict_and_transform_spanbert(non_anaphoric_df, allen_bert)"
   ]
  },
  {
   "cell_type": "code",
   "execution_count": null,
   "metadata": {},
   "outputs": [],
   "source": [
    "evaluate_non_anaphoric_it(non_anaphoric_df)"
   ]
  },
  {
   "cell_type": "code",
   "execution_count": null,
   "metadata": {},
   "outputs": [],
   "source": [
    "target_path = '../data/non_anaphoric_it_bert_preds.csv'\n",
    "non_anaphoric_df.to_csv(target_path)"
   ]
  },
  {
   "cell_type": "markdown",
   "metadata": {},
   "source": [
    "### NUMBER"
   ]
  },
  {
   "cell_type": "code",
   "execution_count": null,
   "metadata": {},
   "outputs": [],
   "source": [
    "num_path = '../data/number_position_synt_role.csv'\n",
    "num_df = pd.read_csv(num_path, delimiter=',')\n",
    "num_df.rename(columns={'sentence':'sentences'}, inplace=True)"
   ]
  },
  {
   "cell_type": "code",
   "execution_count": null,
   "metadata": {},
   "outputs": [],
   "source": [
    "predict_and_transform_spanbert(num_df, allen_bert)"
   ]
  },
  {
   "cell_type": "code",
   "execution_count": null,
   "metadata": {},
   "outputs": [],
   "source": [
    "num_df"
   ]
  },
  {
   "cell_type": "code",
   "execution_count": null,
   "metadata": {},
   "outputs": [],
   "source": [
    "def evaluate_number(number_df):\n",
    "    '''\n",
    "    Evaluate the number challenge dataset based on the word clusters'''\n",
    "    result=[]\n",
    "    processed_gold = []\n",
    "    for i, row in number_df.iterrows():\n",
    "        prediction = row['predictions']\n",
    "        gold = [row['gold']]\n",
    "        print(gold)\n",
    "        gold = gold[0].split(\",\")\n",
    "        processed_gold.append(gold)\n",
    "\n",
    "        if gold in prediction: #if the gold cluster is found inside the list of clusters\n",
    "            score = 1\n",
    "        else:\n",
    "            score = 0\n",
    "        \n",
    "        result.append(score)\n",
    "    \n",
    "    number_df['results']=np.array(result)\n",
    "    number_df.drop('gold', inplace=True, axis=1)\n",
    "    number_df.insert(5, 'gold', processed_gold)"
   ]
  },
  {
   "cell_type": "code",
   "execution_count": null,
   "metadata": {},
   "outputs": [],
   "source": [
    "evaluate_number(num_df)"
   ]
  },
  {
   "cell_type": "code",
   "execution_count": null,
   "metadata": {},
   "outputs": [],
   "source": [
    "target_num_path = '../data/number_position_synt_role_bert_preds.csv'\n",
    "num_df.to_csv(target_num_path)"
   ]
  },
  {
   "cell_type": "markdown",
   "metadata": {},
   "source": [
    "### GENDER"
   ]
  },
  {
   "cell_type": "code",
   "execution_count": null,
   "metadata": {},
   "outputs": [],
   "source": [
    "gender_path = '../data/gender_anaphortype_ambiguity.csv'\n",
    "gender_df = pd.read_csv(gender_path, delimiter = \",\")"
   ]
  },
  {
   "cell_type": "code",
   "execution_count": null,
   "metadata": {},
   "outputs": [],
   "source": [
    "predict_and_transform_spanbert(gender_df, allen_bert, gender=True)"
   ]
  },
  {
   "cell_type": "code",
   "execution_count": null,
   "metadata": {},
   "outputs": [],
   "source": [
    "evaluate_gender(gender_df)"
   ]
  },
  {
   "cell_type": "code",
   "execution_count": null,
   "metadata": {},
   "outputs": [],
   "source": [
    "target_gender_path = '../data/gender_anaphortype_ambiguity_bert_preds.csv'\n",
    "gender_df.to_csv(target_gender_path)"
   ]
  },
  {
   "cell_type": "code",
   "execution_count": null,
   "metadata": {},
   "outputs": [],
   "source": []
  }
 ],
 "metadata": {
  "kernelspec": {
   "display_name": "Python 3.8.13 ('allennlp')",
   "language": "python",
   "name": "python3"
  },
  "language_info": {
   "codemirror_mode": {
    "name": "ipython",
    "version": 3
   },
   "file_extension": ".py",
   "mimetype": "text/x-python",
   "name": "python",
   "nbconvert_exporter": "python",
   "pygments_lexer": "ipython3",
   "version": "3.8.13"
  },
  "orig_nbformat": 4,
  "vscode": {
   "interpreter": {
    "hash": "fe63fdb75901ed9c5bae6586d4023f713527f36356cceecbfa8fb53c7b4de172"
   }
  }
 },
 "nbformat": 4,
 "nbformat_minor": 2
}
