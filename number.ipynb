{
 "cells": [
  {
   "cell_type": "code",
   "execution_count": null,
   "metadata": {},
   "outputs": [],
   "source": [
    "import checklist\n",
    "from checklist.editor import Editor\n",
    "editor = Editor()\n",
    "import spacy\n",
    "nlp = spacy.load('en_core_web_sm')\n",
    "\n",
    "import numpy as np\n",
    "import random\n",
    "\n",
    "\n",
    "# from wonderwords import RandomWord, RandomSentence\n",
    "# word_generator = RandomWord()\n",
    "# sent_generator = RandomSentence()\n",
    "\n",
    "import pandas as pd\n",
    "\n"
   ]
  },
  {
   "cell_type": "markdown",
   "metadata": {},
   "source": [
    "A"
   ]
  },
  {
   "cell_type": "code",
   "execution_count": null,
   "metadata": {},
   "outputs": [],
   "source": [
    "#Singular noun referent - singular noun mention\n",
    "#3 stuctures based on syntactic roles: 1) referent=subject & mention=subject 2)referent=object & mention=object 3)referent=object & mention=subject\n",
    "#Of course other types of structure could be used here, referent=subjecct & mention=object \n",
    "#3 variations: 1) mention in a subordinate clause 2) mention in an independent clause 3) cataphora (mention before referent)\n",
    "\n",
    "#BECAREFUL\n",
    "#not to create confusion: I don't want the mention to also match another entity in the text.\n",
    "#In the third structure I don't whant to accidentally create appositions eg. It was delicious, the meal that Anne cooked.\n",
    "#not to mix the anaphor with another entity. eg. When the anaphor is it, I don't want to have another entity that can take this pronoun\n",
    "sing = [('After the car crashed, it was completely damaged.', 'The car crashed. It was completely damaged.','After it crashed, the car was completely damaged.'),\n",
    " ('The woman bought the watch, but she lost it.', 'The woman bought the watch. However, she lost it.', 'A few minutes after the woman bought it, she lost the watch.'),\n",
    " ('The man planted the tree, and a few months later it bloomed.', 'The man planted the tree. A few months later it bloomed.', 'A few months after the man planted it, the tree bloomed.')]\n",
    "\n",
    "plural = [('The boys left, but they returned.', 'The boys left. However, they returned.', 'They left, but the boys returned.'),\n",
    " ('First the mother baked the cupcakes, and then she ate them.', 'First, the mother baked the cupcakes. Then, she ate them.', 'First the mother baked them, and then she ate the cupcakes.'),\n",
    " ('The fox attacked the animals, and they ran.', 'The fox attacked the animals. They ran.', 'The fox attacked them, and the animals ran.')]\n",
    "\n",
    "col = [('The ENTITY ALIAS1, but they ALIAS2.','The ENTITY ALIAS1. However, they ALIAS2.','Even though they ALIAS1, the ENTITY ALIAS2.'),\n",
    "('The FEMALE_ACTOR ALIAS1 the ENTITY, and she ALIAS2 them.','The FEMALE_ACTOR ALIAS1 the ENTITY. She ALIAS2 them.','The FEMALE_ACTOR ALIAS1 them, and she ALIAS2 the ENTITY.'),\n",
    "('The BOTH_ACTOR ALIAS1 the ENTITY, and they ALIAS2.','The BOTH_ACTOR ALIAS1 the ENTITY. They ALIAS2.','The BOTH_ACTOR ALIAS1 them, and the ENTITY ALIAS2.')]\n",
    "\n",
    "#for case 3 of plural and col I don't want to create more confusion by using another plural entity that can also match with they, because then besides number, it will\n",
    "#also need to look at semantics. This holds for all the parts were there might me a  confusion with the anaphoric expression (pronoun) and the referent."
   ]
  },
  {
   "cell_type": "code",
   "execution_count": null,
   "metadata": {},
   "outputs": [],
   "source": [
    "#ref_alts = editor.suggest_replace(sent1, entity)[70:120]    #I use both the masking and the wonderwords package\n",
    "#generator.random_words(20,include_categories=['noun'])\n",
    "sing_ref = ['car','population','book', 'party', 'ethnicity','preparation','plan',\n",
    "'stamp','robot','game','pillow','house','fruit','track','elevator','tower','computer','video','mountain','body']\n",
    "\n",
    "pl_ref = ['slaves','soldiers','guards','people','officers','students','hunters','thieves','villagers','protestors','settlers',\n",
    "'survivors','refugees','prisoners','wolves','travelers','ghosts','insects','farmers','pirates']\n",
    "\n",
    "col_ref = ['family','couple','audience','flock','group','team','board','committe','choir','council','jury','staff',\n",
    "'youth','band','crowd','crew','gang','duo','mob','troupe']\n",
    "\n",
    "alt_actress = ['woman', 'mother', 'owner', 'author', 'lady', 'bride', 'daughter', 'model', 'sister',\n",
    "'actress', 'photographer','seller', 'artist', 'teacher','client', 'student','queen', 'princess','witch','hostess']\n",
    "\n",
    "alt_actor = ['man','farmer','owner','neighbor','soldier','father','student','employee','friend','seller','mayor','hunter','villager','husband','doctor',\n",
    "'volunteer','resident','reporter','publisher','parent','priest']\n",
    "\n",
    "alt_both = ['man', 'client','mayor','reporter','resident','president','employee','volunteer','seller','singer','doctor','model','artist','owner','parent','athlete',\n",
    "'actress','member','soldier','protester']\n",
    "\n",
    "alt_actors = ['men','soldiers','guards','people']\n",
    "\n",
    "transitive_verbs_list = ['got', 'opened', 'closed', 'purchased','commited','took','wrote','cooked','ate','changed','summoned','cleaned','collected',\n",
    "'drank','smoked','chased','helped','kissed','killed','tasted','selected','tried','unlocked','used','broke','needed','turned','raised',\n",
    "'kept']"
   ]
  },
  {
   "cell_type": "code",
   "execution_count": null,
   "metadata": {},
   "outputs": [],
   "source": [
    "#case1=both_sbj  case2=both_obj  case3=obj_subj\n",
    "sing1 = {'sentence':[], 'position':[],  'gold':[]}\n",
    "sing2 = {'sentence':[], 'position':[],  'gold':[]}\n",
    "sing3 = {'sentence':[], 'position':[],  'gold':[]}\n",
    "\n",
    "pl1 = {'sentence':[], 'position':[], 'gold':[]}\n",
    "pl2 = {'sentence':[], 'position':[],  'gold':[]}\n",
    "pl3 = {'sentence':[], 'position':[],  'gold':[]}\n",
    "\n",
    "col1 = {'sentence':[], 'position':[],  'gold':[]}\n",
    "col2 = {'sentence':[], 'position':[],  'gold':[]}\n",
    "col3 = {'sentence':[], 'position':[],  'gold':[]}\n",
    "\n",
    "sing_set_df = pd.DataFrame()\n",
    "pl_set_df = pd.DataFrame()\n",
    "col_set_df = pd.DataFrame()\n",
    "\n",
    "final_set_df = pd.DataFrame()"
   ]
  },
  {
   "cell_type": "code",
   "execution_count": null,
   "metadata": {},
   "outputs": [],
   "source": [
    "def replace_verbs(sentence, verb1, verb2):\n",
    "    masked_sent = sentence.replace(verb1,'{mask}').replace(verb2,'{mask}')\n",
    "    verb_alternatives = editor.suggest(masked_sent, remove_duplicates = True)[:20]\n",
    "    #remove the ones that are not suitable\n",
    "    for tpl in verb_alternatives:\n",
    "        for word in tpl:\n",
    "            doc = nlp(word)\n",
    "            for token in doc:\n",
    "                if token.pos_ != 'VERB':\n",
    "                    break\n",
    "        \n",
    "        verb_alternatives.remove(tpl)            \n",
    "        continue\n",
    "    \n",
    "    return verb_alternatives[:3]"
   ]
  },
  {
   "cell_type": "code",
   "execution_count": null,
   "metadata": {},
   "outputs": [],
   "source": [
    "#sing - case 1  \n",
    "sent1 = sing[0][0]\n",
    "sent2 = sing[0][1]\n",
    "sent3 = sing[0][2]\n",
    "verb_a, verb_b = 'crashed','damaged'\n",
    "entity = 'car'\n",
    "for alt in sing_ref:\n",
    "        new_sent1 = sent1.replace(entity, alt)\n",
    "        verb_alts = replace_verbs(new_sent1, verb_a, verb_b)\n",
    "        for pair in verb_alts:\n",
    "                sub = sent1.replace(verb_a, pair[0]).replace(verb_b, pair[1]).replace(entity,alt)\n",
    "                spacy_gold_sub = 'the '+alt+ ',it'\n",
    "                ind = sent2.replace(verb_a, pair[0]).replace(verb_b, pair[1]).replace(entity,alt)\n",
    "                spacy_gold_ind = 'The '+alt+ ',It'\n",
    "                cat = sent3.replace(verb_a, pair[0]).replace(verb_b, pair[1]).replace(entity,alt)\n",
    "                spacy_gold_cat = 'it,the '+alt\n",
    "                sing1['sentence'].extend([sub,ind,cat])\n",
    "                sing1['position'].extend(['subordinate','independent','cataphora'])\n",
    "                sing1['gold'].extend([spacy_gold_sub,spacy_gold_ind,spacy_gold_cat])\n",
    "                "
   ]
  },
  {
   "cell_type": "code",
   "execution_count": null,
   "metadata": {},
   "outputs": [],
   "source": [
    "gold = sing1['gold'][0]\n",
    "gold = gold.split(\",\")\n",
    "gold"
   ]
  },
  {
   "cell_type": "code",
   "execution_count": null,
   "metadata": {},
   "outputs": [],
   "source": [
    "sing1_df = pd.DataFrame.from_dict(sing1)\n",
    "syntactic_role = ['subj']* len(sing1_df)\n",
    "sing1_df['syntactic_role']=syntactic_role\n",
    "len(sing1_df)"
   ]
  },
  {
   "cell_type": "code",
   "execution_count": null,
   "metadata": {},
   "outputs": [],
   "source": [
    "#sing - case 2\n",
    "sent1 = sing[1][0]\n",
    "sent2 = sing[1][1]\n",
    "sent3 = sing[1][2]\n",
    "verb_a, verb_b = 'bought','lost'\n",
    "entity = 'watch'\n",
    "actor = 'woman'\n",
    "for a in alt_actress:\n",
    "    new_sent1 = sent1.replace(actor,a)\n",
    "    #we find replacements for the two verbs in the sentence and the entity\n",
    "    masked_sent = new_sent1.replace(verb_a,'{mask}').replace(verb_b,'{mask}').replace(entity,'{mask}')\n",
    "    other_alts = editor.suggest(masked_sent, remove_duplicates=True)[:3]\n",
    "    \n",
    "    #we create the sentences\n",
    "    for group in other_alts:\n",
    "        sub = sent1.replace(actor,a).replace(verb_a,group[0]).replace(entity,group[1]).replace(verb_b,group[2])\n",
    "        spacy_gold_sub = 'the '+group[1]+',it'\n",
    "        ind = sent2.replace(actor,a).replace(verb_a,group[0]).replace(entity,group[1]).replace(verb_b,group[2])\n",
    "        spacy_gold_ind = 'the '+group[1]+',it'\n",
    "        cat = sent3.replace(actor,a).replace(verb_a,group[0]).replace(entity,group[1]).replace(verb_b,group[2])\n",
    "        spacy_gold_cat = 'it,'+ 'the '+group[1]\n",
    "\n",
    "        sing2['sentence'].extend([sub,ind,cat])\n",
    "        sing2['position'].extend(['subordinate','independent','cataphora'])\n",
    "        sing2['gold'].extend([spacy_gold_sub,spacy_gold_ind,spacy_gold_cat])"
   ]
  },
  {
   "cell_type": "code",
   "execution_count": null,
   "metadata": {},
   "outputs": [],
   "source": [
    "sing2_df = pd.DataFrame.from_dict(sing2)\n",
    "syntactic_role = ['obj']* len(sing2_df)\n",
    "sing2_df['syntactic_role']=syntactic_role\n",
    "\n",
    "print(len(sing2_df))\n",
    "\n",
    "sing_set_df = sing1_df.append(sing2_df)"
   ]
  },
  {
   "cell_type": "code",
   "execution_count": null,
   "metadata": {},
   "outputs": [],
   "source": [
    "#sing - case 3\n",
    "sent1 = sing[2][0]\n",
    "sent2 = sing[2][1]\n",
    "sent3 = sing[2][2]\n",
    "verb_a, verb_b = 'planted','bloomed'\n",
    "entity = 'tree'\n",
    "actor = 'man'\n",
    "for a in alt_actor:\n",
    "    new_sent1 = sent1.replace(actor,a)\n",
    "    #we find replacements for the two verbs in the sentence and the entity\n",
    "    masked_sent = new_sent1.replace(verb_a, '{mask}').replace(verb_b,'{mask}').replace(entity,'{mask}')\n",
    "    other_alts = editor.suggest(masked_sent, remove_duplicates=True)[:3]\n",
    "    for group in other_alts:\n",
    "        sub = sent1.replace(actor,a).replace(verb_a,group[0]).replace(entity,group[1]).replace(verb_b,group[2])\n",
    "        spacy_gold_sub = 'the '+group[1]+',it'\n",
    "        ind = sent2.replace(actor,a).replace(verb_a,group[0]).replace(entity,group[1]).replace(verb_b,group[2])\n",
    "        spacy_gold_ind = 'the '+group[1]+',it'\n",
    "        cat = sent3.replace(actor,a).replace(verb_a,group[0]).replace(entity,group[1]).replace(verb_b,group[2])\n",
    "        spacy_gold_cat = 'it,the '+group[1]\n",
    "\n",
    "        sing3['sentence'].extend([sub,ind,cat])\n",
    "        sing3['position'].extend(['subordinate','independent','cataphora'])\n",
    "        sing3['gold'].extend([spacy_gold_sub,spacy_gold_ind,spacy_gold_cat])\n",
    "        \n",
    "        "
   ]
  },
  {
   "cell_type": "code",
   "execution_count": null,
   "metadata": {},
   "outputs": [],
   "source": [
    "sing3_df = pd.DataFrame.from_dict(sing3)\n",
    "syntactic_role = ['obj_subj']* len(sing3_df)\n",
    "sing3_df['syntactic_role']=syntactic_role\n",
    "print(len(sing3_df))\n",
    "sing_set_df = sing_set_df.append(sing3_df)\n",
    "\n",
    "specific_cap = ['singular']*len(sing_set_df)\n",
    "sing_set_df['number']=specific_cap\n",
    "\n",
    "print(len(sing_set_df)) #3 * 180"
   ]
  },
  {
   "cell_type": "code",
   "execution_count": null,
   "metadata": {},
   "outputs": [],
   "source": [
    "#plural - case 1\n",
    "sent1 = plural[0][0]\n",
    "sent2 = plural[0][1]\n",
    "sent3 = plural[0][2]\n",
    "verb_a, verb_b = 'left','returned'\n",
    "entity = 'boys'\n",
    "for alt in pl_ref:\n",
    "    new_sent1 = sent1.replace(entity, alt)\n",
    "    #find alternative verbs\n",
    "    verb_alts = replace_verbs(new_sent1, verb_a, verb_b)\n",
    "    for pair in verb_alts:\n",
    "        sub = sent1.replace(verb_a, pair[0]).replace(verb_b, pair[1]).replace(entity,alt)\n",
    "        spacy_gold_sub = 'The '+alt+',they'\n",
    "        ind = sent2.replace(verb_a, pair[0]).replace(verb_b, pair[1]).replace(entity,alt)\n",
    "        spacy_gold_ind = 'The '+alt+',they'\n",
    "        cat = sent3.replace(verb_a, pair[0]).replace(verb_b, pair[1]).replace(entity,alt)\n",
    "        spacy_gold_cat = 'They,'+ 'the '+alt\n",
    "        pl1['sentence'].extend([sub,ind,cat])\n",
    "        pl1['position'].extend(['subordinate','independent','cataphora'])\n",
    "        pl1['gold'].extend([spacy_gold_sub,spacy_gold_ind,spacy_gold_cat])\n",
    "        "
   ]
  },
  {
   "cell_type": "code",
   "execution_count": null,
   "metadata": {},
   "outputs": [],
   "source": [
    "pl1_df = pd.DataFrame.from_dict(pl1)\n",
    "syntactic_role = ['subj']* len(pl1_df)\n",
    "pl1_df['syntactic_role']=syntactic_role\n",
    "len(pl1_df)"
   ]
  },
  {
   "cell_type": "code",
   "execution_count": null,
   "metadata": {},
   "outputs": [],
   "source": [
    "#plural - case 2\n",
    "sent1 = plural[1][0]\n",
    "sent2 = plural[1][1]\n",
    "sent3 = plural[1][2]\n",
    "verb_a, verb_b = 'baked','ate'\n",
    "entity = 'cupcakes'\n",
    "actor = 'mother'\n",
    "for a in alt_actress:\n",
    "    new_sent1 = sent1.replace(actor,a)\n",
    "    #we find replacements for the two verbs in the sentence and the entity\n",
    "    masked_sent = new_sent1.replace(verb_a, '{mask}').replace(verb_b,'{mask}').replace(entity,'{mask}')\n",
    "    other_alts = editor.suggest(masked_sent, remove_duplicates=True)[:3]\n",
    "    \n",
    "    #we create the sentences\n",
    "    for group in other_alts:\n",
    "        sub = sent1.replace(actor,a).replace(verb_a,group[0]).replace(entity,group[1]).replace(verb_b,group[2])\n",
    "        spacy_gold_sub = 'the '+group[1]+',them'\n",
    "        ind = sent2.replace(actor,a).replace(verb_a,group[0]).replace(entity,group[1]).replace(verb_b,group[2])\n",
    "        spacy_gold_ind = 'the '+group[1]+',them'\n",
    "        cat = sent3.replace(actor,a).replace(verb_a,group[0]).replace(entity,group[1]).replace(verb_b,group[2])\n",
    "        spacy_gold_cat = 'them,the '+group[1]\n",
    "\n",
    "        pl2['sentence'].extend([sub,ind,cat])\n",
    "        pl2['position'].extend(['subordinate','independent','cataphora'])\n",
    "        pl2['gold'].extend([spacy_gold_sub,spacy_gold_ind,spacy_gold_cat])\n",
    "    "
   ]
  },
  {
   "cell_type": "code",
   "execution_count": null,
   "metadata": {},
   "outputs": [],
   "source": [
    "pl2_df = pd.DataFrame.from_dict(pl2)\n",
    "syntactic_role = ['obj']* len(pl2_df)\n",
    "pl2_df['syntactic_role']=syntactic_role\n",
    "print(len(pl2_df))\n",
    "pl_set_df = pl1_df.append(pl2_df)"
   ]
  },
  {
   "cell_type": "code",
   "execution_count": null,
   "metadata": {},
   "outputs": [],
   "source": [
    "#plural - case 3\n",
    "sent1 = plural[2][0]\n",
    "sent2 = plural[2][1]\n",
    "sent3 = plural[2][2]\n",
    "verb_a, verb_b = 'attacked','ran'\n",
    "entity = 'animals'\n",
    "actor = 'fox'\n",
    "#we find replacements for the actor\n",
    "for a in alt_both:\n",
    "    new_sent1 = sent1.replace(actor,a)\n",
    "    #we find replacements for the two verbs in the sentence and the entity\n",
    "    masked_sent = new_sent1.replace(verb_a, '{mask}').replace(verb_b,'{mask}').replace(entity,'{mask}')\n",
    "    other_alts = editor.suggest(masked_sent, remove_duplicates=True)[:3]\n",
    "    \n",
    "    #we create the sentences\n",
    "    for group in other_alts:\n",
    "        sub = sent1.replace(actor,a).replace(verb_a,group[0]).replace(entity,group[1]).replace(verb_b,group[2])\n",
    "        spacy_gold_sub = 'the '+group[1]+',they'\n",
    "        ind = sent2.replace(actor,a).replace(verb_a,group[0]).replace(entity,group[1]).replace(verb_b,group[2])\n",
    "        spacy_gold_ind = 'the '+group[1]+',They'\n",
    "        cat = sent3.replace(actor,a).replace(verb_a,group[0]).replace(entity,group[1]).replace(verb_b,group[2])\n",
    "        spacy_gold_cat = 'them,the '+group[1]\n",
    "\n",
    "        pl3['sentence'].extend([sub,ind,cat])\n",
    "        pl3['position'].extend(['subordinate','independent','cataphora'])\n",
    "        pl3['gold'].extend([spacy_gold_sub,spacy_gold_ind,spacy_gold_cat])\n",
    "    \n"
   ]
  },
  {
   "cell_type": "code",
   "execution_count": null,
   "metadata": {},
   "outputs": [],
   "source": [
    "pl3_df = pd.DataFrame.from_dict(pl3)\n",
    "syntactic_role = ['obj_subj']* len(pl3_df)\n",
    "pl3_df['syntactic_role']=syntactic_role\n",
    "pl_set_df = pl_set_df.append(pl3_df)\n",
    "\n",
    "specific_cap = ['plural']*len(pl_set_df)\n",
    "pl_set_df['number']=specific_cap\n",
    "print(len(pl_set_df))"
   ]
  },
  {
   "cell_type": "code",
   "execution_count": null,
   "metadata": {},
   "outputs": [],
   "source": [
    "#collective - case 1\n",
    "sent1 = col[0][0]\n",
    "sent2 = col[0][1]\n",
    "sent3 = col[0][2]\n",
    "for ref in col_ref:\n",
    "    new_sent1 = sent1.replace('ENTITY',ref)\n",
    "    masked_sent = new_sent1.replace('ALIAS1', '{mask}').replace('ALIAS2','{mask}')\n",
    "    other_alts = editor.suggest(masked_sent, remove_duplicates=True)[:3]\n",
    "    \n",
    "    #we create the sentences\n",
    "    for group in other_alts:\n",
    "        zero = group[0]\n",
    "        if zero.endswith('s'):\n",
    "            zero = zero.rstrip('s')\n",
    "        sub = sent1.replace('ENTITY',ref).replace('ALIAS1',zero).replace('ALIAS2',group[1])\n",
    "        spacy_gold_sub = 'The '+ref+',they'\n",
    "        ind = sent2.replace('ALIAS1',zero).replace('ALIAS2',group[1]).replace('ENTITY',ref)\n",
    "        spacy_gold_ind = 'The '+ref+',they'\n",
    "        cat = sent3.replace('ALIAS1',zero).replace('ALIAS2',group[1]).replace('ENTITY',ref)\n",
    "        spacy_gold_cat = 'they,the '+ref\n",
    "        \n",
    "        col1['sentence'].extend([sub,ind,cat])\n",
    "        col1['position'].extend(['subordinate','independent','cataphora'])\n",
    "        col1['gold'].extend([spacy_gold_sub,spacy_gold_ind,spacy_gold_cat])\n",
    "    "
   ]
  },
  {
   "cell_type": "code",
   "execution_count": null,
   "metadata": {},
   "outputs": [],
   "source": [
    "col1_df = pd.DataFrame.from_dict(col1)\n",
    "syntactic_role = ['subj']* len(col1_df)\n",
    "col1_df['syntactic_role']=syntactic_role\n",
    "len(col1_df)"
   ]
  },
  {
   "cell_type": "code",
   "execution_count": null,
   "metadata": {},
   "outputs": [],
   "source": [
    "#collective - case 2\n",
    "sent1 = col[1][0]\n",
    "sent2 = col[1][1]\n",
    "sent3 = col[1][2]\n",
    "for ref, actress in zip(col_ref, alt_actress):\n",
    "    print(actress)\n",
    "    new_sent1 = sent1.replace('ENTITY',ref).replace('FEMALE_ACTOR',actress)\n",
    "    masked_sent = new_sent1.replace('ALIAS1', '{mask}').replace('ALIAS2','{mask}')\n",
    "    other_alts = editor.suggest(masked_sent, remove_duplicates=True)[:20]\n",
    "    for group in other_alts:\n",
    "        doc = nlp(group[0])\n",
    "        for token in doc:\n",
    "            if token.pos_ != 'VERB':\n",
    "                break\n",
    "        other_alts.remove(group)\n",
    "        continue\n",
    "    other_alts = other_alts[:3]\n",
    "    #we create the sentences\n",
    "    for group in other_alts:\n",
    "        print(group)\n",
    "        sub = sent1.replace('FEMALE_ACTOR', actress).replace('ALIAS1',group[0]).replace('ALIAS2',group[1]).replace('ENTITY',ref)\n",
    "        spacy_gold_sub = 'the '+ref+',them'\n",
    "        ind = sent2.replace('FEMALE_ACTOR', actress).replace('ALIAS1',group[0]).replace('ALIAS2',group[1]).replace('ENTITY',ref)\n",
    "        spacy_gold_ind = 'the '+ref+',them'\n",
    "        cat = sent3.replace('FEMALE_ACTOR', actress).replace('ALIAS1',group[0]).replace('ALIAS2',group[1]).replace('ENTITY',ref)\n",
    "        spacy_gold_cat = 'them,the '+ref\n",
    "\n",
    "        col2['sentence'].extend([sub,ind,cat])\n",
    "        col2['position'].extend(['subordinate','independent','cataphora'])\n",
    "        col2['gold'].extend([spacy_gold_sub,spacy_gold_ind,spacy_gold_cat])"
   ]
  },
  {
   "cell_type": "code",
   "execution_count": null,
   "metadata": {},
   "outputs": [],
   "source": [
    "col2_df = pd.DataFrame.from_dict(col2)\n",
    "syntactic_role = ['obj']* len(col2_df)\n",
    "col2_df['syntactic_role']=syntactic_role\n",
    "print(len(col2_df))\n",
    "\n",
    "col_set_df = col1_df.append(col2_df)"
   ]
  },
  {
   "cell_type": "code",
   "execution_count": null,
   "metadata": {},
   "outputs": [],
   "source": [
    "#collective - case 3\n",
    "sent1 = col[2][0]\n",
    "sent2 = col[2][1]\n",
    "sent3 = col[2][2]\n",
    "for ref, actor in zip(col_ref, alt_both):\n",
    "    new_sent1 = sent1.replace('ENTITY',ref).replace('BOTH_ACTOR',actor)\n",
    "    masked_sent = new_sent1.replace('ALIAS1', '{mask}').replace('ALIAS2','{mask}')\n",
    "    other_alts = editor.suggest(masked_sent, remove_duplicates=True)[:3]\n",
    "    \n",
    "    #we create the sentences\n",
    "    print(actor)\n",
    "    for group in other_alts:\n",
    "        print(group)\n",
    "        sub = sent1.replace('BOTH_ACTOR', actor).replace('ALIAS1',group[0]).replace('ALIAS2',group[1]).replace('ENTITY',ref)\n",
    "        spacy_gold_sub = 'the '+ref+',they'\n",
    "        ind = sent2.replace('BOTH_ACTOR', actor).replace('ALIAS1',group[0]).replace('ALIAS2',group[1]).replace('ENTITY',ref)\n",
    "        spacy_gold_ind = 'the '+ref+',They'\n",
    "        cat = sent3.replace('BOTH_ACTOR', actor).replace('ALIAS1',group[0]).replace('ALIAS2',group[1]).replace('ENTITY',ref)\n",
    "        spacy_gold_cat = 'them,the '+ref\n",
    "\n",
    "        col3['sentence'].extend([sub,ind,cat])\n",
    "        col3['position'].extend(['subordinate','independent','cataphora'])\n",
    "        col3['gold'].extend([spacy_gold_sub,spacy_gold_ind,spacy_gold_cat])"
   ]
  },
  {
   "cell_type": "code",
   "execution_count": null,
   "metadata": {},
   "outputs": [],
   "source": [
    "col3_df = pd.DataFrame.from_dict(col3)\n",
    "syntactic_role = ['obj_subj']* len(col3_df)\n",
    "col3_df['syntactic_role']=syntactic_role\n",
    "print(len(col3_df))\n",
    "col_set_df = col_set_df.append(col3_df)\n",
    "\n",
    "specific_cap = ['collective']*len(col_set_df)\n",
    "col_set_df['number']=specific_cap\n",
    "\n",
    "print(len(col_set_df)) #3 * 180"
   ]
  },
  {
   "cell_type": "code",
   "execution_count": null,
   "metadata": {},
   "outputs": [],
   "source": [
    "final_set_df = sing_set_df.append(pl_set_df)\n",
    "final_set_df = final_set_df.append(col_set_df)\n",
    "\n",
    "path = '/Users/vicky/Desktop/Master/Period4/NLP/resit/data/number_position_synt_role.csv'\n",
    "\n",
    "final_set_df.to_csv(path)"
   ]
  },
  {
   "cell_type": "code",
   "execution_count": null,
   "metadata": {},
   "outputs": [],
   "source": [
    "#STATISTICS\n",
    "num_df = pd.read_csv(path)"
   ]
  },
  {
   "cell_type": "code",
   "execution_count": null,
   "metadata": {},
   "outputs": [],
   "source": [
    "print(len(num_df)) #number of total instances"
   ]
  },
  {
   "cell_type": "code",
   "execution_count": null,
   "metadata": {},
   "outputs": [],
   "source": [
    "print(540/3) #for each number category each grammatical role has 180 instances.\n",
    "# a grammatical role has 540 instances across all number in total"
   ]
  },
  {
   "cell_type": "code",
   "execution_count": null,
   "metadata": {},
   "outputs": [],
   "source": []
  }
 ],
 "metadata": {
  "kernelspec": {
   "display_name": "Python 3.8.13 ('allennlp')",
   "language": "python",
   "name": "python3"
  },
  "language_info": {
   "codemirror_mode": {
    "name": "ipython",
    "version": 3
   },
   "file_extension": ".py",
   "mimetype": "text/x-python",
   "name": "python",
   "nbconvert_exporter": "python",
   "pygments_lexer": "ipython3",
   "version": "3.8.13"
  },
  "orig_nbformat": 4,
  "vscode": {
   "interpreter": {
    "hash": "fe63fdb75901ed9c5bae6586d4023f713527f36356cceecbfa8fb53c7b4de172"
   }
  }
 },
 "nbformat": 4,
 "nbformat_minor": 2
}
