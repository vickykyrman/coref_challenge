{
 "cells": [
  {
   "cell_type": "code",
   "execution_count": null,
   "metadata": {},
   "outputs": [],
   "source": [
    "import spacy \n",
    "import neuralcoref\n",
    "from resit_utils import * \n",
    "import pandas as pd"
   ]
  },
  {
   "cell_type": "code",
   "execution_count": null,
   "metadata": {},
   "outputs": [],
   "source": [
    "nlp = spacy.load('en')\n",
    "neuralcoref.add_to_pipe(nlp)"
   ]
  },
  {
   "cell_type": "code",
   "execution_count": null,
   "metadata": {},
   "outputs": [],
   "source": [
    "sent = 'The troupe trie, but they fail.\t'\n",
    "doc = nlp(sent)\n",
    "doc._.has_coref\n",
    "clusters = doc._.coref_clusters\n"
   ]
  },
  {
   "cell_type": "markdown",
   "metadata": {},
   "source": [
    "### Non anaphoric it"
   ]
  },
  {
   "cell_type": "code",
   "execution_count": null,
   "metadata": {},
   "outputs": [],
   "source": [
    "non_anaphoric_path = '/Users/vicky/Desktop/Master/Period4/NLP/resit/data/non_anaphoric_it.csv'\n",
    "non_anaphoric_df = pd.read_csv(non_anaphoric_path, delimiter=',')\n",
    "predict_neuralcoref(non_anaphoric_df)"
   ]
  },
  {
   "cell_type": "code",
   "execution_count": null,
   "metadata": {},
   "outputs": [],
   "source": [
    "evaluate_non_anaphoric_it(non_anaphoric_df)\n",
    "#all results are correct\n",
    "\n",
    "target_path = '/Users/vicky/Desktop/Master/Period4/NLP/resit/data/non_anaphoric_it_spacy_preds.csv'\n",
    "non_anaphoric_df.to_csv(target_path)"
   ]
  },
  {
   "cell_type": "markdown",
   "metadata": {},
   "source": [
    "### GENDER"
   ]
  },
  {
   "cell_type": "code",
   "execution_count": null,
   "metadata": {},
   "outputs": [],
   "source": [
    "gender_path = '/Users/vicky/Desktop/Master/Period4/NLP/resit/data/gender_anaphortype_ambiguity.csv'\n",
    "gender_df = pd.read_csv(gender_path, delimiter=',')"
   ]
  },
  {
   "cell_type": "code",
   "execution_count": null,
   "metadata": {},
   "outputs": [],
   "source": [
    "predict_neuralcoref(gender_df, gender=True)"
   ]
  },
  {
   "cell_type": "code",
   "execution_count": null,
   "metadata": {},
   "outputs": [],
   "source": [
    "evaluate_gender(gender_df)"
   ]
  },
  {
   "cell_type": "code",
   "execution_count": null,
   "metadata": {},
   "outputs": [],
   "source": [
    "target_gender_path = '/Users/vicky/Desktop/Master/Period4/NLP/resit/data/gender_anaphortype_ambiguity_spacy_preds.csv'\n",
    "gender_df.to_csv(target_gender_path)"
   ]
  },
  {
   "cell_type": "markdown",
   "metadata": {},
   "source": [
    "### Number"
   ]
  },
  {
   "cell_type": "code",
   "execution_count": null,
   "metadata": {},
   "outputs": [],
   "source": [
    "num_path = '/Users/vicky/Desktop/Master/Period4/NLP/resit/data/number_position_synt_role.csv'\n",
    "num_df = pd.read_csv(num_path, delimiter=',')\n",
    "num_df.rename(columns={'sentence':'sentences'}, inplace=True)"
   ]
  },
  {
   "cell_type": "code",
   "execution_count": null,
   "metadata": {},
   "outputs": [],
   "source": [
    "predict_neuralcoref(num_df)"
   ]
  },
  {
   "cell_type": "code",
   "execution_count": null,
   "metadata": {},
   "outputs": [],
   "source": [
    "evaluate_number(num_df)"
   ]
  },
  {
   "cell_type": "code",
   "execution_count": null,
   "metadata": {},
   "outputs": [],
   "source": [
    "target_num_path = '/Users/vicky/Desktop/Master/Period4/NLP/resit/data/number_position_synt_role_spacy_preds.csv'\n",
    "num_df.to_csv(target_num_path)"
   ]
  },
  {
   "cell_type": "code",
   "execution_count": null,
   "metadata": {},
   "outputs": [],
   "source": [
    "num_df"
   ]
  },
  {
   "cell_type": "code",
   "execution_count": null,
   "metadata": {},
   "outputs": [],
   "source": []
  }
 ],
 "metadata": {
  "kernelspec": {
   "display_name": "Python 3.7.13 ('COREF')",
   "language": "python",
   "name": "python3"
  },
  "language_info": {
   "codemirror_mode": {
    "name": "ipython",
    "version": 3
   },
   "file_extension": ".py",
   "mimetype": "text/x-python",
   "name": "python",
   "nbconvert_exporter": "python",
   "pygments_lexer": "ipython3",
   "version": "3.7.13"
  },
  "orig_nbformat": 4,
  "vscode": {
   "interpreter": {
    "hash": "0ab5303b2a54d82a110b86b6ac6578a09af27174c40df4b4f0ffc0e1f29cbf13"
   }
  }
 },
 "nbformat": 4,
 "nbformat_minor": 2
}
