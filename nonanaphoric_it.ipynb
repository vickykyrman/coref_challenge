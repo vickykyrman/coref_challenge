{
 "cells": [
  {
   "cell_type": "code",
   "execution_count": null,
   "metadata": {},
   "outputs": [],
   "source": [
    "import checklist\n",
    "from checklist.editor import Editor\n",
    "editor = Editor()\n",
    "import spacy\n",
    "nlp = spacy.load('en_core_web_sm')\n",
    "\n",
    "import numpy as np\n",
    "import random\n",
    "np.random.seed(42)\n",
    "random.seed(42)\n",
    "\n",
    "# from wonderwords import RandomWord, RandomSentence\n",
    "# word_generator = RandomWord()\n",
    "# sent_generator = RandomSentence()\n",
    "\n",
    "import pandas as pd"
   ]
  },
  {
   "cell_type": "code",
   "execution_count": null,
   "metadata": {},
   "outputs": [],
   "source": [
    "#EXTRAPOSITION - serves avoiding having complex subjects at the beginning of the sentence.\n",
    "#CLEFTING - casts the focus on a part of the sentence\n",
    "\n",
    "#pleonastic/expletive\n",
    "impersonal = ['It seems like John is angry.', \"It looks like you're shivering.\", \"It feels like being young again.\", 'It is raining heavily.', 'It was snowing yesterday.', \"It was very dark outside.\", \"It is so hot today.\" ]\n",
    "impersonal_extra_dif = ['It seems like a nice gesture towards the kid.', 'It looks like the child is having a panick attack.', 'It feels like home to the child.', 'It is raining heavily in the city.', 'It was snowing yesterday in my village.', \"It was very dark outside and the kid had to come back home.\", 'It is so hot today for taking the baby out.']\n",
    "\n",
    "idioms = ['We hit it off from the beginning.', 'How is it going?', 'We finally made it to the finals.', 'When it comes to friends, I am very picky.', \n",
    "\"It finally occurred to me, that she didn't have anyone.\"]\n",
    "idioms_extra_dif = ['Mary and the new kid hit it off from the beginning.', 'How is it going with your thesis?','We finally made it to the final semester.', 'When it comes to food, the child is very picky.',\n",
    "'It occured to the child, that the dog was hurt. ']\n",
    "\n",
    "#clefting\n",
    "nominal_cleft = ['It was you, who killed him.', 'It was Mary, who got robbed.', 'It was my grandma, who left.']\n",
    "nominal_cleft_extra_dif = ['It was you, who killed the dog.', 'It was my purse, that got stolen.', 'It was the kid, who left the house.']\n",
    "\n",
    "finite_clefting = [\"It's that he abandoned his wife, that I find despicable.\", \"It's that the woman won, that I find surprising.\", \"It's that he went there, that he's talking about all the time.\"]\n",
    "finite_clefting_extra_dif = [\"It's that he abandoned his dog, that the kid found despicable.\", \"It's that the child won the lottery, that I find surprising.\", \"It's that the kid went to the univesity, that the whole neighborhood is talking about.\"]\n",
    "\n",
    "infinitive_clefting = [\"It's to scary her, that the he dressed up.\", \"It's to help, that he tried.\", \"It was to rest, that he slept.\"]\n",
    "infinitive_clefting_extra_dif = [\"It's to scary the child, that he wore that costume.\", \"It's to help the cat, that the kid tried.\", \"It was to rest the mind, that the kid slept.\"]\n",
    "\n",
    "#extraposition\n",
    "finite_extra = ['It is possible that he killed him.', \"It's a wonder that you are still here.\", \"It hurts the child that she's so cruel.\"]\n",
    "finite_extra_extra_dif = ['It is possible that he killed the victim.', \"It's a wonder that the sun is still up.\", \"It hurts me that the world is so cruel.\"]\n",
    "\n",
    "\n",
    "infinitival_extra = ['It is difficult to finish working on time.', 'It surprised me to see you like that.', 'It feels good to be back.']\n",
    "infinitival_extra_extra_dif = ['It is difficult for the boy to finish this assignment on time.', 'It surprised the child to see the animal like that.', 'It feels good to have a job.']\n",
    "\n",
    "#nominal, impersonal and infinitival cases should not be confused with impersonal ones, since they can be restructured/rearranged"
   ]
  },
  {
   "cell_type": "code",
   "execution_count": null,
   "metadata": {},
   "outputs": [],
   "source": [
    "it_df = pd.DataFrame()\n",
    "\n",
    "pleonastic_dict = {'sentences':[], 'specific_category':[], 'challenge':[]}\n",
    "clefting_dict = {'sentences':[], 'specific_category':[], 'challenge':[]}\n",
    "extraposition_dict = {'sentences':[], 'specific_category':[], 'challenge':[]}\n",
    "\n",
    "final_df = pd.DataFrame()"
   ]
  },
  {
   "cell_type": "code",
   "execution_count": null,
   "metadata": {},
   "outputs": [],
   "source": [
    "#pleonastic\n",
    "for i in impersonal: \n",
    "    pleonastic_dict['sentences'].append(i)\n",
    "    pleonastic_dict['specific_category'].append('impersonal')\n",
    "    pleonastic_dict['challenge'].append('False')\n",
    "\n",
    "for i in impersonal_extra_dif:\n",
    "    pleonastic_dict['sentences'].append(i)\n",
    "    pleonastic_dict['specific_category'].append('impersonal')\n",
    "    pleonastic_dict['challenge'].append('True')\n",
    "\n",
    "for i in idioms:\n",
    "    pleonastic_dict['sentences'].append(i)\n",
    "    pleonastic_dict['specific_category'].append('idiom')\n",
    "    pleonastic_dict['challenge'].append('False')\n",
    "\n",
    "for i in idioms_extra_dif:\n",
    "    pleonastic_dict['sentences'].append(i)\n",
    "    pleonastic_dict['specific_category'].append('idiom')\n",
    "    pleonastic_dict['challenge'].append('True')\n",
    "\n",
    "\n",
    "\n",
    "\n",
    "pleonastic_df = pd.DataFrame.from_dict(pleonastic_dict)\n",
    "cat = [\"pleonastic\"] * len(pleonastic_df)\n",
    "pleonastic_df['broader_category'] = cat\n"
   ]
  },
  {
   "cell_type": "code",
   "execution_count": null,
   "metadata": {},
   "outputs": [],
   "source": [
    "#clefting\n",
    "for i in nominal_cleft:\n",
    "    clefting_dict['sentences'].append(i)\n",
    "    clefting_dict['specific_category'].append('nominal_cleft')\n",
    "    clefting_dict['challenge'].append(False)\n",
    "\n",
    "\n",
    "for i in nominal_cleft_extra_dif:\n",
    "    clefting_dict['sentences'].append(i)\n",
    "    clefting_dict['specific_category'].append('nominal_cleft')\n",
    "    clefting_dict['challenge'].append(True)\n",
    "\n",
    "\n",
    "for i in finite_clefting:\n",
    "    clefting_dict['sentences'].append(i)\n",
    "    clefting_dict['specific_category'].append('finite_cleft')\n",
    "    clefting_dict['challenge'].append(False)\n",
    "\n",
    "for i in finite_clefting_extra_dif:\n",
    "    clefting_dict['sentences'].append(i)\n",
    "    clefting_dict['specific_category'].append('finite_cleft')\n",
    "    clefting_dict['challenge'].append(True)\n",
    "\n",
    "\n",
    "for i in infinitive_clefting:\n",
    "    clefting_dict['sentences'].append(i)\n",
    "    clefting_dict['specific_category'].append('infinitive_cleft')\n",
    "    clefting_dict['challenge'].append(False)\n",
    "\n",
    "for i in infinitive_clefting_extra_dif:\n",
    "    clefting_dict['sentences'].append(i)\n",
    "    clefting_dict['specific_category'].append('infinitive_cleft')\n",
    "    clefting_dict['challenge'].append(True)\n",
    "\n",
    "\n",
    "\n",
    "\n",
    "clefting_df = pd.DataFrame.from_dict(clefting_dict)\n",
    "cat = ['clefting']*len(clefting_df)\n",
    "clefting_df['broader_category']=cat"
   ]
  },
  {
   "cell_type": "code",
   "execution_count": null,
   "metadata": {},
   "outputs": [],
   "source": [
    "#extraposition\n",
    "for i in finite_extra:\n",
    "    extraposition_dict['sentences'].append(i)\n",
    "    extraposition_dict['specific_category'].append('finite_extraposition')\n",
    "    extraposition_dict['challenge'].append(False)\n",
    "\n",
    "for i in finite_extra_extra_dif:\n",
    "    extraposition_dict['sentences'].append(i)\n",
    "    extraposition_dict['specific_category'].append('finite_extraposition')\n",
    "    extraposition_dict['challenge'].append(True)\n",
    "\n",
    "for i in infinitival_extra:\n",
    "    extraposition_dict['sentences'].append(i)\n",
    "    extraposition_dict['specific_category'].append('infinitive_extraposition')\n",
    "    extraposition_dict['challenge'].append(False)\n",
    "\n",
    "for i in infinitival_extra_extra_dif:\n",
    "    extraposition_dict['sentences'].append(i)\n",
    "    extraposition_dict['specific_category'].append('infinitive_extraposition')\n",
    "    extraposition_dict['challenge'].append(True)\n",
    "\n",
    "\n",
    "\n",
    "extraposition_df = pd.DataFrame.from_dict(extraposition_dict)\n",
    "cat = ['extraposition']*len(extraposition_df)\n",
    "extraposition_df['broader_category']=cat"
   ]
  },
  {
   "cell_type": "code",
   "execution_count": null,
   "metadata": {},
   "outputs": [],
   "source": [
    "final_df = pleonastic_df.append(clefting_df)\n",
    "final_df = final_df.append(extraposition_df)"
   ]
  },
  {
   "cell_type": "code",
   "execution_count": null,
   "metadata": {},
   "outputs": [],
   "source": [
    "path = '../data/non_anaphoric_it.csv'\n",
    "#final_df.to_csv(path)"
   ]
  }
 ],
 "metadata": {
  "kernelspec": {
   "display_name": "Python 3.8.13 ('allennlp')",
   "language": "python",
   "name": "python3"
  },
  "language_info": {
   "codemirror_mode": {
    "name": "ipython",
    "version": 3
   },
   "file_extension": ".py",
   "mimetype": "text/x-python",
   "name": "python",
   "nbconvert_exporter": "python",
   "pygments_lexer": "ipython3",
   "version": "3.8.13"
  },
  "orig_nbformat": 4,
  "vscode": {
   "interpreter": {
    "hash": "fe63fdb75901ed9c5bae6586d4023f713527f36356cceecbfa8fb53c7b4de172"
   }
  }
 },
 "nbformat": 4,
 "nbformat_minor": 2
}
