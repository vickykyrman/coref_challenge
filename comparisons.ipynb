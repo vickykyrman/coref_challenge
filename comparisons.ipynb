{
 "cells": [
  {
   "cell_type": "code",
   "execution_count": null,
   "metadata": {},
   "outputs": [],
   "source": [
    "import pandas as pd\n",
    "import numpy as np\n",
    "from sklearn.metrics import accuracy_score"
   ]
  },
  {
   "cell_type": "markdown",
   "metadata": {},
   "source": [
    "### NON-ANAPHORIC IT"
   ]
  },
  {
   "cell_type": "code",
   "execution_count": null,
   "metadata": {},
   "outputs": [],
   "source": [
    "non_anaphoric_spacy_path = '../data/non_anaphoric_it_spacy_preds.csv'\n",
    "non_anaphoric_bert_path = '../data/non_anaphoric_it_bert_preds.csv'\n",
    "\n",
    "non_anaphoric_spacy_df = pd.read_csv(non_anaphoric_spacy_path, delimiter=\",\")\n",
    "non_anaphoric_bert_df = pd.read_csv(non_anaphoric_bert_path, delimiter=',')"
   ]
  },
  {
   "cell_type": "code",
   "execution_count": null,
   "metadata": {},
   "outputs": [],
   "source": [
    "non_anaphoric_spacy_df_nonempty_preds = non_anaphoric_spacy_df.loc[non_anaphoric_spacy_df['predictions']!='[]']\n",
    "non_anaphoric_bert_df_nonempty_preds = non_anaphoric_bert_df.loc[non_anaphoric_bert_df['predictions']!='[]']"
   ]
  },
  {
   "cell_type": "code",
   "execution_count": null,
   "metadata": {},
   "outputs": [],
   "source": [
    "non_anaphoric_spacy_df_nonempty_preds\n",
    "#39 and 44 are false predictions that spacy made but not bert"
   ]
  },
  {
   "cell_type": "code",
   "execution_count": null,
   "metadata": {},
   "outputs": [],
   "source": [
    "non_anaphoric_bert_df_nonempty_preds"
   ]
  },
  {
   "cell_type": "markdown",
   "metadata": {},
   "source": [
    "* 39 and 44 are false predictions that spacy made but not bert\n",
    "* 42 is a falso predictions that both spacy and bert have, but it is not due to the extraposition. They did not interprete he and him as introducing different discourse entities which suggests luck of semantics, but this is not the ability tested here\n",
    "* they have 100% agreement when it comes to the tested capability"
   ]
  },
  {
   "cell_type": "markdown",
   "metadata": {},
   "source": [
    "### NUMBER"
   ]
  },
  {
   "cell_type": "markdown",
   "metadata": {},
   "source": [
    "- 180 for each number for each grammatical role\n",
    "- 540 for each number type\n",
    "- 1620 instances in total for number, grammatical role and anaphor position"
   ]
  },
  {
   "cell_type": "code",
   "execution_count": null,
   "metadata": {},
   "outputs": [],
   "source": [
    "num_spacy_path = '../data/number_position_synt_role_spacy_preds.csv'\n",
    "num_spacy_df = pd.read_csv(num_spacy_path, delimiter=',')\n",
    "num_bert_path = '../data/number_position_synt_role_bert_preds.csv'\n",
    "num_bert_df = pd.read_csv(num_bert_path, delimiter=',')"
   ]
  },
  {
   "cell_type": "code",
   "execution_count": null,
   "metadata": {},
   "outputs": [],
   "source": [
    "#spacy\n",
    "num_spacy_correct = num_spacy_df.loc[num_spacy_df['results']==1]\n",
    "num_spacy_false = num_spacy_df.loc[num_spacy_df['results']==0]\n",
    "\n",
    "num_accuracy_spacy = len(num_spacy_correct)/len(num_spacy_df)\n",
    "print(num_accuracy_spacy)\n",
    "print(num_spacy_false['position'].value_counts())\n",
    "print()\n",
    "print(num_spacy_false['syntactic_role'].value_counts())\n",
    "print()\n",
    "print(num_spacy_false['number'].value_counts())"
   ]
  },
  {
   "cell_type": "code",
   "execution_count": null,
   "metadata": {},
   "outputs": [],
   "source": [
    "#this persentage is empty predictions\n",
    "# num_spacy_false_empty = num_spacy_false.loc[num_spacy_false['predictions']=='[]']\n",
    "# print(len(num_spacy_false_empty)/len(num_spacy_false))\n",
    "\n",
    "# print(num_spacy_false_empty['position'].value_counts())\n",
    "#sub = num_spacy_false_empty.loc[num_spacy_false_empty['position']=='subordinate']\n",
    "#"
   ]
  },
  {
   "cell_type": "code",
   "execution_count": null,
   "metadata": {},
   "outputs": [],
   "source": [
    "sing = num_spacy_false.loc[num_spacy_false['number']=='singular']\n",
    "print(sing['position'].value_counts())\n",
    "print()\n",
    "print(sing['syntactic_role'].value_counts())\n",
    "print()\n",
    "\n",
    "#LETS TAKE THE SIMPLER VERSION - SINGULAR + SUBORDINATE\n",
    "# single_sub = num_spacy_false.loc[(num_spacy_false['number']=='singular') & (num_spacy_false['position']=='subordinate')]\n",
    "# print(single_sub['syntactic_role'].value_counts())\n",
    "\n",
    "#SINGULAR + INDEPENDENT\n",
    "# sing_ind = num_spacy_false.loc[(num_spacy_false['number']=='singular') & (num_spacy_false['position']=='independent')]\n",
    "# print(sing_ind['syntactic_role'].value_counts())\n",
    "\n",
    "#SINGULAR + CATAPHORA\n",
    "# sing_cat = num_spacy_false.loc[(num_spacy_false['number']=='singular') & (num_spacy_false['position']=='cataphora')]\n",
    "# print(sing_cat['syntactic_role'].value_counts())"
   ]
  },
  {
   "cell_type": "code",
   "execution_count": null,
   "metadata": {},
   "outputs": [],
   "source": [
    "pl = num_spacy_false.loc[num_spacy_false['number']=='plural']\n",
    "print(pl['position'].value_counts())\n",
    "print()\n",
    "print(pl['syntactic_role'].value_counts())\n",
    "print()\n",
    "\n",
    "#LETS TAKE THE SIMPLER VERSION - PLURAL + SUBORDINATE\n",
    "# pl_sub = num_spacy_false.loc[(num_spacy_false['number']=='plural') & (num_spacy_false['position']=='subordinate')]\n",
    "# print(pl_sub['syntactic_role'].value_counts())\n",
    "\n",
    "#PLURAL + INDEPENDENT\n",
    "# pl_ind = num_spacy_false.loc[(num_spacy_false['number']=='plural') & (num_spacy_false['position']=='independent')]\n",
    "# print(pl_ind['syntactic_role'].value_counts())\n",
    "\n",
    "#PLURAL + CATAPHORA\n",
    "# pl_cat = num_spacy_false.loc[(num_spacy_false['number']=='plural') & (num_spacy_false['position']=='cataphora')]\n",
    "# print(pl_cat['syntactic_role'].value_counts())"
   ]
  },
  {
   "cell_type": "code",
   "execution_count": null,
   "metadata": {},
   "outputs": [],
   "source": [
    "col = num_spacy_false.loc[num_spacy_false['number']=='collective']\n",
    "print(col['position'].value_counts())\n",
    "print()\n",
    "print(col['syntactic_role'].value_counts())\n",
    "print()\n",
    "\n",
    "#LETS TAKE THE SIMPLER VERSION - COLLECTIVE + SUBORDINATE\n",
    "# col_sub = num_spacy_false.loc[(num_spacy_false['number']=='collective') & (num_spacy_false['position']=='subordinate')]\n",
    "# print(col_sub['syntactic_role'].value_counts())\n",
    "\n",
    "#COLLECTIVE + INDEPENDENT\n",
    "# col_ind = num_spacy_false.loc[(num_spacy_false['number']=='collective') & (num_spacy_false['position']=='independent')]\n",
    "# print(col_ind['syntactic_role'].value_counts())\n",
    "\n",
    "#COLLECTIVE + CATAPHORA\n",
    "col_cat = num_spacy_false.loc[(num_spacy_false['number']=='collective') & (num_spacy_false['position']=='cataphora')]\n",
    "print(col_cat['syntactic_role'].value_counts())"
   ]
  },
  {
   "cell_type": "markdown",
   "metadata": {},
   "source": [
    "-------------------------------------------------------------------------------------------------------------"
   ]
  },
  {
   "cell_type": "code",
   "execution_count": null,
   "metadata": {},
   "outputs": [],
   "source": [
    "#bert\n",
    "num_bert_correct = num_bert_df.loc[num_bert_df['results']==1]\n",
    "num_bert_false = num_bert_df.loc[num_bert_df['results']==0]\n",
    "\n",
    "num_accuracy_bert = len(num_bert_correct)/len(num_bert_df)\n",
    "num_accuracy_bert\n",
    "\n",
    "num_accuracy_bert = len(num_bert_correct)/len(num_bert_df)\n",
    "print(num_accuracy_bert)\n",
    "print(num_bert_false['position'].value_counts())\n",
    "print()\n",
    "print(num_bert_false['syntactic_role'].value_counts())\n",
    "print()\n",
    "print(num_bert_false['number'].value_counts())"
   ]
  },
  {
   "cell_type": "code",
   "execution_count": null,
   "metadata": {},
   "outputs": [],
   "source": [
    "sing = num_bert_false.loc[num_bert_false['number']=='singular']\n",
    "print(sing['position'].value_counts())\n",
    "print()\n",
    "print(sing['syntactic_role'].value_counts())\n",
    "print()\n",
    "\n",
    "#LETS TAKE THE SIMPLER VERSION - SINGULAR + SUBORDINATE\n",
    "# single_sub = num_bert_false.loc[(num_bert_false['number']=='singular') & (num_bert_false['position']=='subordinate')]\n",
    "# print(single_sub['syntactic_role'].value_counts())\n",
    "\n",
    "#SINGULAR + INDEPENDENT\n",
    "sing_ind = num_bert_false.loc[(num_bert_false['number']=='singular') & (num_bert_false['position']=='independent')]\n",
    "print(sing_ind['syntactic_role'].value_counts())\n",
    "\n",
    "#SINGULAR + CATAPHORA\n",
    "# sing_cat = num_bert_false.loc[(num_bert_false['number']=='singular') & (num_bert_false['position']=='cataphora')]\n",
    "# print(sing_cat['syntactic_role'].value_counts())"
   ]
  },
  {
   "cell_type": "markdown",
   "metadata": {},
   "source": [
    "### GENDER"
   ]
  },
  {
   "cell_type": "markdown",
   "metadata": {},
   "source": [
    "- 4 gender cases \n",
    "- 14 entities in every group of nouns that are either biased towards males or females * 6 for every gender case (3 for possessive pronoun instances + 3 for personal pronoun instances). => (14 * 6) * 4\n",
    "- half of the above are devoted to no extra noise cases and the other half to extra noise cases\n",
    "- in total we have [] instances that test the gender, anaphor type and ambiguity capabilities\n"
   ]
  },
  {
   "cell_type": "code",
   "execution_count": null,
   "metadata": {},
   "outputs": [],
   "source": [
    "gender_spacy_path = '../data/gender_anaphortype_ambiguity_spacy_preds.csv'\n",
    "gender_spacy_df = pd.read_csv(gender_spacy_path, delimiter=',')\n",
    "gender_bert_path = '../data/gender_anaphortype_ambiguity_bert_preds.csv'\n",
    "gender_bert_df = pd.read_csv(gender_bert_path, delimiter=',')"
   ]
  },
  {
   "cell_type": "code",
   "execution_count": null,
   "metadata": {},
   "outputs": [],
   "source": [
    "#spacy\n",
    "agree_spacy_df = gender_spacy_df.loc[gender_spacy_df['agreement_scores']==1]\n",
    "disagree_spacy_df = gender_spacy_df.loc[gender_spacy_df['agreement_scores']==0]\n",
    "\n",
    "\n",
    "agreement_score_spacy = len(agree_spacy_df)/len(gender_spacy_df)\n",
    "print(agreement_score_spacy)\n",
    "\n",
    "print('bias', disagree_spacy_df['gender_bias'].value_counts())\n",
    "print()\n",
    "print('ambiguity', disagree_spacy_df['ambiguity'].value_counts())\n",
    "print()\n",
    "print('pronoun', disagree_spacy_df['anaphor_type'].value_counts())\n",
    "print()\n",
    "print(disagree_spacy_df['male_scores'].value_counts())\n",
    "print(disagree_spacy_df['female_scores'].value_counts())\n",
    "\n",
    "male_bias = disagree_spacy_df.loc[disagree_spacy_df['gender_bias']=='male']\n",
    "female_bias = disagree_spacy_df.loc[disagree_spacy_df['gender_bias']=='female']\n"
   ]
  },
  {
   "cell_type": "code",
   "execution_count": null,
   "metadata": {},
   "outputs": [],
   "source": [
    "54/(54+21)"
   ]
  },
  {
   "cell_type": "code",
   "execution_count": null,
   "metadata": {},
   "outputs": [],
   "source": [
    "#bert\n",
    "\n",
    "agree_bert_df = gender_bert_df.loc[gender_bert_df['agreement_scores']==1]\n",
    "disagree_bert_df = gender_bert_df.loc[gender_bert_df['agreement_scores']==0]\n",
    "\n",
    "agreement_score_bert = len(agree_bert_df)/len(gender_bert_df)\n",
    "\n",
    "print(agreement_score_bert)"
   ]
  },
  {
   "cell_type": "code",
   "execution_count": null,
   "metadata": {},
   "outputs": [],
   "source": [
    "print('bias', disagree_bert_df['gender_bias'].value_counts())\n",
    "print()\n",
    "print('ambiguity', disagree_bert_df['ambiguity'].value_counts())\n",
    "print()\n",
    "print('pronoun', disagree_bert_df['anaphor_type'].value_counts())\n",
    "print()\n",
    "print(disagree_bert_df['male_scores'].value_counts())\n",
    "print(disagree_bert_df['female_scores'].value_counts())\n",
    "\n",
    "male_bias = disagree_bert_df.loc[disagree_bert_df['gender_bias']=='male']\n",
    "female_bias = disagree_bert_df.loc[disagree_bert_df['gender_bias']=='female']\n"
   ]
  },
  {
   "cell_type": "code",
   "execution_count": null,
   "metadata": {},
   "outputs": [],
   "source": [
    "female_bias['female_scores'].value_counts()"
   ]
  },
  {
   "cell_type": "code",
   "execution_count": null,
   "metadata": {},
   "outputs": [],
   "source": [
    "55/(35+55)"
   ]
  },
  {
   "cell_type": "code",
   "execution_count": null,
   "metadata": {},
   "outputs": [],
   "source": []
  }
 ],
 "metadata": {
  "kernelspec": {
   "display_name": "Python 3.8.13 ('allennlp')",
   "language": "python",
   "name": "python3"
  },
  "language_info": {
   "codemirror_mode": {
    "name": "ipython",
    "version": 3
   },
   "file_extension": ".py",
   "mimetype": "text/x-python",
   "name": "python",
   "nbconvert_exporter": "python",
   "pygments_lexer": "ipython3",
   "version": "3.8.13"
  },
  "orig_nbformat": 4,
  "vscode": {
   "interpreter": {
    "hash": "fe63fdb75901ed9c5bae6586d4023f713527f36356cceecbfa8fb53c7b4de172"
   }
  }
 },
 "nbformat": 4,
 "nbformat_minor": 2
}
